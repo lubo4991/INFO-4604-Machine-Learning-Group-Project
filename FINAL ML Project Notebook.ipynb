{
 "cells": [
  {
   "cell_type": "markdown",
   "metadata": {},
   "source": [
    "# Kobe Bryant Statistics: INFO 4604 / Applied Machine Learning \n",
    "### Project Team: Lucas Bouchard, Steven Rothaus, Harold Chang, Justin Klemperer"
   ]
  },
  {
   "cell_type": "markdown",
   "metadata": {},
   "source": [
    "Summarization: In this notebook, we demonstrate the ability to create a machine learning algorithm that is able to use a dataset containing NBA player Kobe Bryant's career statisics and predict whether a particular action type \"shot selection\" is successful or missed using binary classification\n",
    "\n",
    "### What are we classifying? (Predicting)\n",
    "##### (1)Kobe shot made based on distance to basket, shot selection, …(all features)(predict)\n",
    "##### (2)How likely is a shot to go in based on the distance to the basket?(predict)\n",
    "##### (3)How likely is Kobe to win a game based on his (features)(which feature you mean?)(predict)\n",
    "##### (4)Where are Kobes strongest and weakest shooting zones?(chart/analysis)(Steven)\n",
    "##### (5)Over his entire career was Kobe a more accurate 3-point or 2-point shooter?(chart/analysis)(Steven)\n",
    "##### (6)What year/game/playoff series was Kobe the most accurate in his shooting percentage?(chart/analysis)(Steven)\n",
    "##### (7)Was Kobe a more accurate shooter in the playoffs or regular season?(chart/analysis)(Justin)\n",
    "##### (8)What was Kobe’s most accurate type of shot? (Dunk, Jump-Shot, Layup, Bank-Shot)(chart/analysis)(Justin)\n",
    "##### (9)What year did Kobe make/miss the most attempted shots?(chart/analysis)(Justin)"
   ]
  },
  {
   "cell_type": "markdown",
   "metadata": {},
   "source": [
    "# The accuracy of a shot made based on the distance"
   ]
  },
  {
   "cell_type": "code",
   "execution_count": 18,
   "metadata": {},
   "outputs": [],
   "source": [
    "import pandas as pd \n",
    "import seaborn as sns # for data visualization\n",
    "import matplotlib.pyplot as plt # for data visualization\n",
    "%matplotlib inline"
   ]
  },
  {
   "cell_type": "code",
   "execution_count": 20,
   "metadata": {},
   "outputs": [
    {
     "data": {
      "text/html": [
       "<div>\n",
       "<style scoped>\n",
       "    .dataframe tbody tr th:only-of-type {\n",
       "        vertical-align: middle;\n",
       "    }\n",
       "\n",
       "    .dataframe tbody tr th {\n",
       "        vertical-align: top;\n",
       "    }\n",
       "\n",
       "    .dataframe thead th {\n",
       "        text-align: right;\n",
       "    }\n",
       "</style>\n",
       "<table border=\"1\" class=\"dataframe\">\n",
       "  <thead>\n",
       "    <tr style=\"text-align: right;\">\n",
       "      <th></th>\n",
       "      <th>action_type</th>\n",
       "      <th>combined_shot_type</th>\n",
       "      <th>game_event_id</th>\n",
       "      <th>game_id</th>\n",
       "      <th>lat</th>\n",
       "      <th>loc_x</th>\n",
       "      <th>loc_y</th>\n",
       "      <th>lon</th>\n",
       "      <th>minutes_remaining</th>\n",
       "      <th>period</th>\n",
       "      <th>...</th>\n",
       "      <th>shot_type</th>\n",
       "      <th>shot_zone_area</th>\n",
       "      <th>shot_zone_basic</th>\n",
       "      <th>shot_zone_range</th>\n",
       "      <th>team_id</th>\n",
       "      <th>team_name</th>\n",
       "      <th>game_date</th>\n",
       "      <th>matchup</th>\n",
       "      <th>opponent</th>\n",
       "      <th>shot_id</th>\n",
       "    </tr>\n",
       "  </thead>\n",
       "  <tbody>\n",
       "    <tr>\n",
       "      <th>0</th>\n",
       "      <td>Jump Shot</td>\n",
       "      <td>Jump Shot</td>\n",
       "      <td>124.0</td>\n",
       "      <td>29600044.0</td>\n",
       "      <td>33.8633</td>\n",
       "      <td>-142.0</td>\n",
       "      <td>181.0</td>\n",
       "      <td>-118.4118</td>\n",
       "      <td>8.0</td>\n",
       "      <td>2.0</td>\n",
       "      <td>...</td>\n",
       "      <td>3PT Field Goal</td>\n",
       "      <td>Left Side Center(LC)</td>\n",
       "      <td>Mid-Range</td>\n",
       "      <td>16-24 ft.</td>\n",
       "      <td>1.610613e+09</td>\n",
       "      <td>Los Angeles Lakers</td>\n",
       "      <td>11/6/96</td>\n",
       "      <td>LAL @ CHH</td>\n",
       "      <td>CHA</td>\n",
       "      <td>22904.0</td>\n",
       "    </tr>\n",
       "    <tr>\n",
       "      <th>1</th>\n",
       "      <td>Jump Shot</td>\n",
       "      <td>Jump Shot</td>\n",
       "      <td>151.0</td>\n",
       "      <td>29600044.0</td>\n",
       "      <td>33.9063</td>\n",
       "      <td>-10.0</td>\n",
       "      <td>138.0</td>\n",
       "      <td>-118.2798</td>\n",
       "      <td>5.0</td>\n",
       "      <td>2.0</td>\n",
       "      <td>...</td>\n",
       "      <td>2PT Field Goal</td>\n",
       "      <td>Center(C)</td>\n",
       "      <td>In The Paint (Non-RA)</td>\n",
       "      <td>8-16 ft.</td>\n",
       "      <td>1.610613e+09</td>\n",
       "      <td>Los Angeles Lakers</td>\n",
       "      <td>11/6/96</td>\n",
       "      <td>LAL @ CHH</td>\n",
       "      <td>CHA</td>\n",
       "      <td>22906.0</td>\n",
       "    </tr>\n",
       "    <tr>\n",
       "      <th>2</th>\n",
       "      <td>Jump Shot</td>\n",
       "      <td>Jump Shot</td>\n",
       "      <td>226.0</td>\n",
       "      <td>29600057.0</td>\n",
       "      <td>33.8213</td>\n",
       "      <td>-64.0</td>\n",
       "      <td>223.0</td>\n",
       "      <td>-118.3338</td>\n",
       "      <td>2.0</td>\n",
       "      <td>2.0</td>\n",
       "      <td>...</td>\n",
       "      <td>3PT Field Goal</td>\n",
       "      <td>Center(C)</td>\n",
       "      <td>Mid-Range</td>\n",
       "      <td>16-24 ft.</td>\n",
       "      <td>1.610613e+09</td>\n",
       "      <td>Los Angeles Lakers</td>\n",
       "      <td>11/8/96</td>\n",
       "      <td>LAL @ TOR</td>\n",
       "      <td>TOR</td>\n",
       "      <td>22908.0</td>\n",
       "    </tr>\n",
       "    <tr>\n",
       "      <th>3</th>\n",
       "      <td>Jump Shot</td>\n",
       "      <td>Jump Shot</td>\n",
       "      <td>337.0</td>\n",
       "      <td>29600057.0</td>\n",
       "      <td>33.8373</td>\n",
       "      <td>-103.0</td>\n",
       "      <td>207.0</td>\n",
       "      <td>-118.3728</td>\n",
       "      <td>1.0</td>\n",
       "      <td>3.0</td>\n",
       "      <td>...</td>\n",
       "      <td>3PT Field Goal</td>\n",
       "      <td>Left Side Center(LC)</td>\n",
       "      <td>Mid-Range</td>\n",
       "      <td>16-24 ft.</td>\n",
       "      <td>1.610613e+09</td>\n",
       "      <td>Los Angeles Lakers</td>\n",
       "      <td>11/8/96</td>\n",
       "      <td>LAL @ TOR</td>\n",
       "      <td>TOR</td>\n",
       "      <td>22911.0</td>\n",
       "    </tr>\n",
       "    <tr>\n",
       "      <th>4</th>\n",
       "      <td>Jump Shot</td>\n",
       "      <td>Jump Shot</td>\n",
       "      <td>153.0</td>\n",
       "      <td>29600086.0</td>\n",
       "      <td>33.9323</td>\n",
       "      <td>-151.0</td>\n",
       "      <td>112.0</td>\n",
       "      <td>-118.4208</td>\n",
       "      <td>6.0</td>\n",
       "      <td>2.0</td>\n",
       "      <td>...</td>\n",
       "      <td>2PT Field Goal</td>\n",
       "      <td>Left Side Center(LC)</td>\n",
       "      <td>Mid-Range</td>\n",
       "      <td>16-24 ft.</td>\n",
       "      <td>1.610613e+09</td>\n",
       "      <td>Los Angeles Lakers</td>\n",
       "      <td>11/12/96</td>\n",
       "      <td>LAL @ HOU</td>\n",
       "      <td>HOU</td>\n",
       "      <td>22918.0</td>\n",
       "    </tr>\n",
       "    <tr>\n",
       "      <th>5</th>\n",
       "      <td>Layup Shot</td>\n",
       "      <td>Layup</td>\n",
       "      <td>426.0</td>\n",
       "      <td>29600095.0</td>\n",
       "      <td>34.0443</td>\n",
       "      <td>0.0</td>\n",
       "      <td>0.0</td>\n",
       "      <td>-118.2698</td>\n",
       "      <td>1.0</td>\n",
       "      <td>4.0</td>\n",
       "      <td>...</td>\n",
       "      <td>2PT Field Goal</td>\n",
       "      <td>Center(C)</td>\n",
       "      <td>Restricted Area</td>\n",
       "      <td>Less Than 8 ft.</td>\n",
       "      <td>1.610613e+09</td>\n",
       "      <td>Los Angeles Lakers</td>\n",
       "      <td>11/13/96</td>\n",
       "      <td>LAL @ SAS</td>\n",
       "      <td>SAS</td>\n",
       "      <td>22920.0</td>\n",
       "    </tr>\n",
       "    <tr>\n",
       "      <th>6</th>\n",
       "      <td>Jump Shot</td>\n",
       "      <td>Jump Shot</td>\n",
       "      <td>453.0</td>\n",
       "      <td>29600095.0</td>\n",
       "      <td>33.9043</td>\n",
       "      <td>188.0</td>\n",
       "      <td>140.0</td>\n",
       "      <td>-118.0818</td>\n",
       "      <td>0.0</td>\n",
       "      <td>4.0</td>\n",
       "      <td>...</td>\n",
       "      <td>3PT Field Goal</td>\n",
       "      <td>Right Side Center(RC)</td>\n",
       "      <td>Mid-Range</td>\n",
       "      <td>16-24 ft.</td>\n",
       "      <td>1.610613e+09</td>\n",
       "      <td>Los Angeles Lakers</td>\n",
       "      <td>11/13/96</td>\n",
       "      <td>LAL @ SAS</td>\n",
       "      <td>SAS</td>\n",
       "      <td>22921.0</td>\n",
       "    </tr>\n",
       "    <tr>\n",
       "      <th>7</th>\n",
       "      <td>Jump Shot</td>\n",
       "      <td>Jump Shot</td>\n",
       "      <td>141.0</td>\n",
       "      <td>29600112.0</td>\n",
       "      <td>34.0293</td>\n",
       "      <td>-157.0</td>\n",
       "      <td>15.0</td>\n",
       "      <td>-118.4268</td>\n",
       "      <td>9.0</td>\n",
       "      <td>2.0</td>\n",
       "      <td>...</td>\n",
       "      <td>2PT Field Goal</td>\n",
       "      <td>Left Side(L)</td>\n",
       "      <td>Mid-Range</td>\n",
       "      <td>8-16 ft.</td>\n",
       "      <td>1.610613e+09</td>\n",
       "      <td>Los Angeles Lakers</td>\n",
       "      <td>11/15/96</td>\n",
       "      <td>LAL vs. LAC</td>\n",
       "      <td>LAC</td>\n",
       "      <td>22922.0</td>\n",
       "    </tr>\n",
       "    <tr>\n",
       "      <th>8</th>\n",
       "      <td>Jump Shot</td>\n",
       "      <td>Jump Shot</td>\n",
       "      <td>163.0</td>\n",
       "      <td>29600126.0</td>\n",
       "      <td>33.8153</td>\n",
       "      <td>62.0</td>\n",
       "      <td>229.0</td>\n",
       "      <td>-118.2078</td>\n",
       "      <td>5.0</td>\n",
       "      <td>2.0</td>\n",
       "      <td>...</td>\n",
       "      <td>3PT Field Goal</td>\n",
       "      <td>Center(C)</td>\n",
       "      <td>Mid-Range</td>\n",
       "      <td>16-24 ft.</td>\n",
       "      <td>1.610613e+09</td>\n",
       "      <td>Los Angeles Lakers</td>\n",
       "      <td>11/17/96</td>\n",
       "      <td>LAL @ PHX</td>\n",
       "      <td>PHX</td>\n",
       "      <td>22928.0</td>\n",
       "    </tr>\n",
       "    <tr>\n",
       "      <th>9</th>\n",
       "      <td>Jump Shot</td>\n",
       "      <td>Jump Shot</td>\n",
       "      <td>304.0</td>\n",
       "      <td>29600126.0</td>\n",
       "      <td>33.8893</td>\n",
       "      <td>-170.0</td>\n",
       "      <td>155.0</td>\n",
       "      <td>-118.4398</td>\n",
       "      <td>0.0</td>\n",
       "      <td>3.0</td>\n",
       "      <td>...</td>\n",
       "      <td>3PT Field Goal</td>\n",
       "      <td>Left Side Center(LC)</td>\n",
       "      <td>Mid-Range</td>\n",
       "      <td>16-24 ft.</td>\n",
       "      <td>1.610613e+09</td>\n",
       "      <td>Los Angeles Lakers</td>\n",
       "      <td>11/17/96</td>\n",
       "      <td>LAL @ PHX</td>\n",
       "      <td>PHX</td>\n",
       "      <td>22931.0</td>\n",
       "    </tr>\n",
       "  </tbody>\n",
       "</table>\n",
       "<p>10 rows × 25 columns</p>\n",
       "</div>"
      ],
      "text/plain": [
       "  action_type combined_shot_type  game_event_id     game_id      lat  loc_x  \\\n",
       "0   Jump Shot          Jump Shot          124.0  29600044.0  33.8633 -142.0   \n",
       "1   Jump Shot          Jump Shot          151.0  29600044.0  33.9063  -10.0   \n",
       "2   Jump Shot          Jump Shot          226.0  29600057.0  33.8213  -64.0   \n",
       "3   Jump Shot          Jump Shot          337.0  29600057.0  33.8373 -103.0   \n",
       "4   Jump Shot          Jump Shot          153.0  29600086.0  33.9323 -151.0   \n",
       "5  Layup Shot              Layup          426.0  29600095.0  34.0443    0.0   \n",
       "6   Jump Shot          Jump Shot          453.0  29600095.0  33.9043  188.0   \n",
       "7   Jump Shot          Jump Shot          141.0  29600112.0  34.0293 -157.0   \n",
       "8   Jump Shot          Jump Shot          163.0  29600126.0  33.8153   62.0   \n",
       "9   Jump Shot          Jump Shot          304.0  29600126.0  33.8893 -170.0   \n",
       "\n",
       "   loc_y       lon  minutes_remaining  period   ...          shot_type  \\\n",
       "0  181.0 -118.4118                8.0     2.0   ...     3PT Field Goal   \n",
       "1  138.0 -118.2798                5.0     2.0   ...     2PT Field Goal   \n",
       "2  223.0 -118.3338                2.0     2.0   ...     3PT Field Goal   \n",
       "3  207.0 -118.3728                1.0     3.0   ...     3PT Field Goal   \n",
       "4  112.0 -118.4208                6.0     2.0   ...     2PT Field Goal   \n",
       "5    0.0 -118.2698                1.0     4.0   ...     2PT Field Goal   \n",
       "6  140.0 -118.0818                0.0     4.0   ...     3PT Field Goal   \n",
       "7   15.0 -118.4268                9.0     2.0   ...     2PT Field Goal   \n",
       "8  229.0 -118.2078                5.0     2.0   ...     3PT Field Goal   \n",
       "9  155.0 -118.4398                0.0     3.0   ...     3PT Field Goal   \n",
       "\n",
       "          shot_zone_area        shot_zone_basic  shot_zone_range  \\\n",
       "0   Left Side Center(LC)              Mid-Range        16-24 ft.   \n",
       "1              Center(C)  In The Paint (Non-RA)         8-16 ft.   \n",
       "2              Center(C)              Mid-Range        16-24 ft.   \n",
       "3   Left Side Center(LC)              Mid-Range        16-24 ft.   \n",
       "4   Left Side Center(LC)              Mid-Range        16-24 ft.   \n",
       "5              Center(C)        Restricted Area  Less Than 8 ft.   \n",
       "6  Right Side Center(RC)              Mid-Range        16-24 ft.   \n",
       "7           Left Side(L)              Mid-Range         8-16 ft.   \n",
       "8              Center(C)              Mid-Range        16-24 ft.   \n",
       "9   Left Side Center(LC)              Mid-Range        16-24 ft.   \n",
       "\n",
       "        team_id           team_name game_date      matchup opponent  shot_id  \n",
       "0  1.610613e+09  Los Angeles Lakers   11/6/96    LAL @ CHH      CHA  22904.0  \n",
       "1  1.610613e+09  Los Angeles Lakers   11/6/96    LAL @ CHH      CHA  22906.0  \n",
       "2  1.610613e+09  Los Angeles Lakers   11/8/96    LAL @ TOR      TOR  22908.0  \n",
       "3  1.610613e+09  Los Angeles Lakers   11/8/96    LAL @ TOR      TOR  22911.0  \n",
       "4  1.610613e+09  Los Angeles Lakers  11/12/96    LAL @ HOU      HOU  22918.0  \n",
       "5  1.610613e+09  Los Angeles Lakers  11/13/96    LAL @ SAS      SAS  22920.0  \n",
       "6  1.610613e+09  Los Angeles Lakers  11/13/96    LAL @ SAS      SAS  22921.0  \n",
       "7  1.610613e+09  Los Angeles Lakers  11/15/96  LAL vs. LAC      LAC  22922.0  \n",
       "8  1.610613e+09  Los Angeles Lakers  11/17/96    LAL @ PHX      PHX  22928.0  \n",
       "9  1.610613e+09  Los Angeles Lakers  11/17/96    LAL @ PHX      PHX  22931.0  \n",
       "\n",
       "[10 rows x 25 columns]"
      ]
     },
     "execution_count": 20,
     "metadata": {},
     "output_type": "execute_result"
    }
   ],
   "source": [
    "df = pd.read_csv(\"data_sql.csv\")\n",
    "df = df.dropna()\n",
    "df.head(10)"
   ]
  },
  {
   "cell_type": "code",
   "execution_count": 21,
   "metadata": {},
   "outputs": [
    {
     "data": {
      "text/plain": [
       "Index(['action_type', 'combined_shot_type', 'game_event_id', 'game_id', 'lat',\n",
       "       'loc_x', 'loc_y', 'lon', 'minutes_remaining', 'period', 'playoffs',\n",
       "       'season', 'seconds_remaining', 'shot_distance', 'shot_made_flag',\n",
       "       'shot_type', 'shot_zone_area', 'shot_zone_basic', 'shot_zone_range',\n",
       "       'team_id', 'team_name', 'game_date', 'matchup', 'opponent', 'shot_id'],\n",
       "      dtype='object')"
      ]
     },
     "execution_count": 21,
     "metadata": {},
     "output_type": "execute_result"
    }
   ],
   "source": [
    "df.columns"
   ]
  },
  {
   "cell_type": "code",
   "execution_count": 22,
   "metadata": {},
   "outputs": [
    {
     "data": {
      "text/plain": [
       "0        1.0\n",
       "1        1.0\n",
       "2        1.0\n",
       "3        1.0\n",
       "4        1.0\n",
       "5        1.0\n",
       "6        1.0\n",
       "7        1.0\n",
       "8        1.0\n",
       "9        1.0\n",
       "10       1.0\n",
       "11       1.0\n",
       "12       1.0\n",
       "13       1.0\n",
       "14       1.0\n",
       "15       1.0\n",
       "16       1.0\n",
       "17       1.0\n",
       "18       1.0\n",
       "19       1.0\n",
       "20       1.0\n",
       "21       1.0\n",
       "22       1.0\n",
       "23       1.0\n",
       "24       1.0\n",
       "25       1.0\n",
       "26       1.0\n",
       "27       1.0\n",
       "28       1.0\n",
       "29       1.0\n",
       "        ... \n",
       "25667    0.0\n",
       "25668    0.0\n",
       "25669    0.0\n",
       "25670    0.0\n",
       "25671    0.0\n",
       "25672    0.0\n",
       "25673    0.0\n",
       "25674    0.0\n",
       "25675    0.0\n",
       "25676    0.0\n",
       "25677    0.0\n",
       "25678    0.0\n",
       "25679    0.0\n",
       "25680    0.0\n",
       "25681    0.0\n",
       "25682    0.0\n",
       "25683    0.0\n",
       "25684    0.0\n",
       "25685    0.0\n",
       "25686    0.0\n",
       "25687    0.0\n",
       "25688    0.0\n",
       "25689    0.0\n",
       "25690    0.0\n",
       "25691    0.0\n",
       "25692    0.0\n",
       "25693    0.0\n",
       "25694    0.0\n",
       "25695    0.0\n",
       "25696    0.0\n",
       "Name: shot_made_flag, Length: 25697, dtype: float64"
      ]
     },
     "execution_count": 22,
     "metadata": {},
     "output_type": "execute_result"
    }
   ],
   "source": [
    "y_target = df['shot_made_flag']\n",
    "y_target"
   ]
  },
  {
   "cell_type": "code",
   "execution_count": 29,
   "metadata": {},
   "outputs": [],
   "source": [
    "df['target'] = df['shot_made_flag'].map({0:'B',1:'M'})"
   ]
  },
  {
   "cell_type": "code",
   "execution_count": 31,
   "metadata": {},
   "outputs": [],
   "source": [
    "features = ['shot_distance', 'shot_made_flag']\n",
    "X_feature = df[features]"
   ]
  },
  {
   "cell_type": "code",
   "execution_count": 33,
   "metadata": {},
   "outputs": [],
   "source": [
    "from sklearn.model_selection import train_test_split\n",
    "X_feature.drop(columns=['shot_made_flag'], inplace=True)"
   ]
  },
  {
   "cell_type": "code",
   "execution_count": 34,
   "metadata": {},
   "outputs": [
    {
     "data": {
      "text/html": [
       "<div>\n",
       "<style scoped>\n",
       "    .dataframe tbody tr th:only-of-type {\n",
       "        vertical-align: middle;\n",
       "    }\n",
       "\n",
       "    .dataframe tbody tr th {\n",
       "        vertical-align: top;\n",
       "    }\n",
       "\n",
       "    .dataframe thead th {\n",
       "        text-align: right;\n",
       "    }\n",
       "</style>\n",
       "<table border=\"1\" class=\"dataframe\">\n",
       "  <thead>\n",
       "    <tr style=\"text-align: right;\">\n",
       "      <th></th>\n",
       "      <th>shot_distance</th>\n",
       "    </tr>\n",
       "  </thead>\n",
       "  <tbody>\n",
       "    <tr>\n",
       "      <th>0</th>\n",
       "      <td>23.0</td>\n",
       "    </tr>\n",
       "    <tr>\n",
       "      <th>1</th>\n",
       "      <td>13.0</td>\n",
       "    </tr>\n",
       "    <tr>\n",
       "      <th>2</th>\n",
       "      <td>23.0</td>\n",
       "    </tr>\n",
       "    <tr>\n",
       "      <th>3</th>\n",
       "      <td>23.0</td>\n",
       "    </tr>\n",
       "    <tr>\n",
       "      <th>4</th>\n",
       "      <td>18.0</td>\n",
       "    </tr>\n",
       "    <tr>\n",
       "      <th>5</th>\n",
       "      <td>0.0</td>\n",
       "    </tr>\n",
       "    <tr>\n",
       "      <th>6</th>\n",
       "      <td>23.0</td>\n",
       "    </tr>\n",
       "    <tr>\n",
       "      <th>7</th>\n",
       "      <td>15.0</td>\n",
       "    </tr>\n",
       "    <tr>\n",
       "      <th>8</th>\n",
       "      <td>23.0</td>\n",
       "    </tr>\n",
       "    <tr>\n",
       "      <th>9</th>\n",
       "      <td>23.0</td>\n",
       "    </tr>\n",
       "    <tr>\n",
       "      <th>10</th>\n",
       "      <td>0.0</td>\n",
       "    </tr>\n",
       "    <tr>\n",
       "      <th>11</th>\n",
       "      <td>23.0</td>\n",
       "    </tr>\n",
       "    <tr>\n",
       "      <th>12</th>\n",
       "      <td>26.0</td>\n",
       "    </tr>\n",
       "    <tr>\n",
       "      <th>13</th>\n",
       "      <td>24.0</td>\n",
       "    </tr>\n",
       "    <tr>\n",
       "      <th>14</th>\n",
       "      <td>22.0</td>\n",
       "    </tr>\n",
       "    <tr>\n",
       "      <th>15</th>\n",
       "      <td>23.0</td>\n",
       "    </tr>\n",
       "    <tr>\n",
       "      <th>16</th>\n",
       "      <td>0.0</td>\n",
       "    </tr>\n",
       "    <tr>\n",
       "      <th>17</th>\n",
       "      <td>16.0</td>\n",
       "    </tr>\n",
       "    <tr>\n",
       "      <th>18</th>\n",
       "      <td>0.0</td>\n",
       "    </tr>\n",
       "    <tr>\n",
       "      <th>19</th>\n",
       "      <td>0.0</td>\n",
       "    </tr>\n",
       "    <tr>\n",
       "      <th>20</th>\n",
       "      <td>0.0</td>\n",
       "    </tr>\n",
       "    <tr>\n",
       "      <th>21</th>\n",
       "      <td>0.0</td>\n",
       "    </tr>\n",
       "    <tr>\n",
       "      <th>22</th>\n",
       "      <td>23.0</td>\n",
       "    </tr>\n",
       "    <tr>\n",
       "      <th>23</th>\n",
       "      <td>0.0</td>\n",
       "    </tr>\n",
       "    <tr>\n",
       "      <th>24</th>\n",
       "      <td>23.0</td>\n",
       "    </tr>\n",
       "    <tr>\n",
       "      <th>25</th>\n",
       "      <td>19.0</td>\n",
       "    </tr>\n",
       "    <tr>\n",
       "      <th>26</th>\n",
       "      <td>13.0</td>\n",
       "    </tr>\n",
       "    <tr>\n",
       "      <th>27</th>\n",
       "      <td>0.0</td>\n",
       "    </tr>\n",
       "    <tr>\n",
       "      <th>28</th>\n",
       "      <td>0.0</td>\n",
       "    </tr>\n",
       "    <tr>\n",
       "      <th>29</th>\n",
       "      <td>14.0</td>\n",
       "    </tr>\n",
       "    <tr>\n",
       "      <th>...</th>\n",
       "      <td>...</td>\n",
       "    </tr>\n",
       "    <tr>\n",
       "      <th>25667</th>\n",
       "      <td>24.0</td>\n",
       "    </tr>\n",
       "    <tr>\n",
       "      <th>25668</th>\n",
       "      <td>26.0</td>\n",
       "    </tr>\n",
       "    <tr>\n",
       "      <th>25669</th>\n",
       "      <td>16.0</td>\n",
       "    </tr>\n",
       "    <tr>\n",
       "      <th>25670</th>\n",
       "      <td>23.0</td>\n",
       "    </tr>\n",
       "    <tr>\n",
       "      <th>25671</th>\n",
       "      <td>15.0</td>\n",
       "    </tr>\n",
       "    <tr>\n",
       "      <th>25672</th>\n",
       "      <td>25.0</td>\n",
       "    </tr>\n",
       "    <tr>\n",
       "      <th>25673</th>\n",
       "      <td>24.0</td>\n",
       "    </tr>\n",
       "    <tr>\n",
       "      <th>25674</th>\n",
       "      <td>19.0</td>\n",
       "    </tr>\n",
       "    <tr>\n",
       "      <th>25675</th>\n",
       "      <td>1.0</td>\n",
       "    </tr>\n",
       "    <tr>\n",
       "      <th>25676</th>\n",
       "      <td>4.0</td>\n",
       "    </tr>\n",
       "    <tr>\n",
       "      <th>25677</th>\n",
       "      <td>17.0</td>\n",
       "    </tr>\n",
       "    <tr>\n",
       "      <th>25678</th>\n",
       "      <td>25.0</td>\n",
       "    </tr>\n",
       "    <tr>\n",
       "      <th>25679</th>\n",
       "      <td>23.0</td>\n",
       "    </tr>\n",
       "    <tr>\n",
       "      <th>25680</th>\n",
       "      <td>22.0</td>\n",
       "    </tr>\n",
       "    <tr>\n",
       "      <th>25681</th>\n",
       "      <td>26.0</td>\n",
       "    </tr>\n",
       "    <tr>\n",
       "      <th>25682</th>\n",
       "      <td>24.0</td>\n",
       "    </tr>\n",
       "    <tr>\n",
       "      <th>25683</th>\n",
       "      <td>1.0</td>\n",
       "    </tr>\n",
       "    <tr>\n",
       "      <th>25684</th>\n",
       "      <td>11.0</td>\n",
       "    </tr>\n",
       "    <tr>\n",
       "      <th>25685</th>\n",
       "      <td>25.0</td>\n",
       "    </tr>\n",
       "    <tr>\n",
       "      <th>25686</th>\n",
       "      <td>31.0</td>\n",
       "    </tr>\n",
       "    <tr>\n",
       "      <th>25687</th>\n",
       "      <td>25.0</td>\n",
       "    </tr>\n",
       "    <tr>\n",
       "      <th>25688</th>\n",
       "      <td>26.0</td>\n",
       "    </tr>\n",
       "    <tr>\n",
       "      <th>25689</th>\n",
       "      <td>24.0</td>\n",
       "    </tr>\n",
       "    <tr>\n",
       "      <th>25690</th>\n",
       "      <td>26.0</td>\n",
       "    </tr>\n",
       "    <tr>\n",
       "      <th>25691</th>\n",
       "      <td>23.0</td>\n",
       "    </tr>\n",
       "    <tr>\n",
       "      <th>25692</th>\n",
       "      <td>0.0</td>\n",
       "    </tr>\n",
       "    <tr>\n",
       "      <th>25693</th>\n",
       "      <td>24.0</td>\n",
       "    </tr>\n",
       "    <tr>\n",
       "      <th>25694</th>\n",
       "      <td>9.0</td>\n",
       "    </tr>\n",
       "    <tr>\n",
       "      <th>25695</th>\n",
       "      <td>8.0</td>\n",
       "    </tr>\n",
       "    <tr>\n",
       "      <th>25696</th>\n",
       "      <td>0.0</td>\n",
       "    </tr>\n",
       "  </tbody>\n",
       "</table>\n",
       "<p>25697 rows × 1 columns</p>\n",
       "</div>"
      ],
      "text/plain": [
       "       shot_distance\n",
       "0               23.0\n",
       "1               13.0\n",
       "2               23.0\n",
       "3               23.0\n",
       "4               18.0\n",
       "5                0.0\n",
       "6               23.0\n",
       "7               15.0\n",
       "8               23.0\n",
       "9               23.0\n",
       "10               0.0\n",
       "11              23.0\n",
       "12              26.0\n",
       "13              24.0\n",
       "14              22.0\n",
       "15              23.0\n",
       "16               0.0\n",
       "17              16.0\n",
       "18               0.0\n",
       "19               0.0\n",
       "20               0.0\n",
       "21               0.0\n",
       "22              23.0\n",
       "23               0.0\n",
       "24              23.0\n",
       "25              19.0\n",
       "26              13.0\n",
       "27               0.0\n",
       "28               0.0\n",
       "29              14.0\n",
       "...              ...\n",
       "25667           24.0\n",
       "25668           26.0\n",
       "25669           16.0\n",
       "25670           23.0\n",
       "25671           15.0\n",
       "25672           25.0\n",
       "25673           24.0\n",
       "25674           19.0\n",
       "25675            1.0\n",
       "25676            4.0\n",
       "25677           17.0\n",
       "25678           25.0\n",
       "25679           23.0\n",
       "25680           22.0\n",
       "25681           26.0\n",
       "25682           24.0\n",
       "25683            1.0\n",
       "25684           11.0\n",
       "25685           25.0\n",
       "25686           31.0\n",
       "25687           25.0\n",
       "25688           26.0\n",
       "25689           24.0\n",
       "25690           26.0\n",
       "25691           23.0\n",
       "25692            0.0\n",
       "25693           24.0\n",
       "25694            9.0\n",
       "25695            8.0\n",
       "25696            0.0\n",
       "\n",
       "[25697 rows x 1 columns]"
      ]
     },
     "execution_count": 34,
     "metadata": {},
     "output_type": "execute_result"
    }
   ],
   "source": [
    "X_feature"
   ]
  },
  {
   "cell_type": "code",
   "execution_count": 36,
   "metadata": {},
   "outputs": [],
   "source": [
    "X_train, X_test, y_train, y_test= train_test_split(X_feature, y_target, test_size=0.3, random_state = 42)\n",
    "from sklearn.linear_model import LogisticRegression\n",
    "from sklearn.metrics import accuracy_score"
   ]
  },
  {
   "cell_type": "code",
   "execution_count": 37,
   "metadata": {},
   "outputs": [
    {
     "data": {
      "text/plain": [
       "16840    0.0\n",
       "21853    0.0\n",
       "15375    0.0\n",
       "16492    0.0\n",
       "24413    0.0\n",
       "19272    0.0\n",
       "24412    0.0\n",
       "11591    0.0\n",
       "3143     1.0\n",
       "15953    0.0\n",
       "15266    0.0\n",
       "21928    0.0\n",
       "8449     1.0\n",
       "10062    1.0\n",
       "17999    0.0\n",
       "20291    0.0\n",
       "11668    0.0\n",
       "17179    0.0\n",
       "20073    0.0\n",
       "13707    0.0\n",
       "11783    0.0\n",
       "24608    0.0\n",
       "16424    0.0\n",
       "558      1.0\n",
       "13984    0.0\n",
       "10041    1.0\n",
       "16761    0.0\n",
       "10804    1.0\n",
       "20617    0.0\n",
       "20822    0.0\n",
       "        ... \n",
       "18942    0.0\n",
       "25658    0.0\n",
       "8666     1.0\n",
       "6396     1.0\n",
       "19769    0.0\n",
       "20939    0.0\n",
       "17568    0.0\n",
       "6420     1.0\n",
       "5051     1.0\n",
       "5311     1.0\n",
       "2433     1.0\n",
       "23333    0.0\n",
       "769      1.0\n",
       "1685     1.0\n",
       "8322     1.0\n",
       "16023    0.0\n",
       "11363    1.0\n",
       "14423    0.0\n",
       "21962    0.0\n",
       "4426     1.0\n",
       "16850    0.0\n",
       "6265     1.0\n",
       "22118    0.0\n",
       "11284    1.0\n",
       "11964    0.0\n",
       "21575    0.0\n",
       "5390     1.0\n",
       "860      1.0\n",
       "15795    0.0\n",
       "23654    0.0\n",
       "Name: shot_made_flag, Length: 17987, dtype: float64"
      ]
     },
     "execution_count": 37,
     "metadata": {},
     "output_type": "execute_result"
    }
   ],
   "source": [
    "model = LogisticRegression()\n",
    "y_train"
   ]
  },
  {
   "cell_type": "code",
   "execution_count": 38,
   "metadata": {},
   "outputs": [
    {
     "data": {
      "text/plain": [
       "16840    0.0\n",
       "21853    0.0\n",
       "15375    0.0\n",
       "16492    0.0\n",
       "24413    0.0\n",
       "19272    0.0\n",
       "24412    0.0\n",
       "11591    0.0\n",
       "3143     1.0\n",
       "15953    0.0\n",
       "15266    0.0\n",
       "21928    0.0\n",
       "8449     1.0\n",
       "10062    1.0\n",
       "17999    0.0\n",
       "20291    0.0\n",
       "11668    0.0\n",
       "17179    0.0\n",
       "20073    0.0\n",
       "13707    0.0\n",
       "11783    0.0\n",
       "24608    0.0\n",
       "16424    0.0\n",
       "558      1.0\n",
       "13984    0.0\n",
       "10041    1.0\n",
       "16761    0.0\n",
       "10804    1.0\n",
       "20617    0.0\n",
       "20822    0.0\n",
       "        ... \n",
       "18942    0.0\n",
       "25658    0.0\n",
       "8666     1.0\n",
       "6396     1.0\n",
       "19769    0.0\n",
       "20939    0.0\n",
       "17568    0.0\n",
       "6420     1.0\n",
       "5051     1.0\n",
       "5311     1.0\n",
       "2433     1.0\n",
       "23333    0.0\n",
       "769      1.0\n",
       "1685     1.0\n",
       "8322     1.0\n",
       "16023    0.0\n",
       "11363    1.0\n",
       "14423    0.0\n",
       "21962    0.0\n",
       "4426     1.0\n",
       "16850    0.0\n",
       "6265     1.0\n",
       "22118    0.0\n",
       "11284    1.0\n",
       "11964    0.0\n",
       "21575    0.0\n",
       "5390     1.0\n",
       "860      1.0\n",
       "15795    0.0\n",
       "23654    0.0\n",
       "Name: shot_made_flag, Length: 17987, dtype: float64"
      ]
     },
     "execution_count": 38,
     "metadata": {},
     "output_type": "execute_result"
    }
   ],
   "source": [
    "model.fit(X_train, y_train)\n",
    "y_train"
   ]
  },
  {
   "cell_type": "code",
   "execution_count": 39,
   "metadata": {},
   "outputs": [],
   "source": [
    "from mlxtend.plotting import plot_decision_regions"
   ]
  },
  {
   "cell_type": "code",
   "execution_count": 40,
   "metadata": {
    "scrolled": true
   },
   "outputs": [
    {
     "data": {
      "text/plain": [
       "<matplotlib.figure.Figure at 0x1a171e6198>"
      ]
     },
     "execution_count": 40,
     "metadata": {},
     "output_type": "execute_result"
    },
    {
     "data": {
      "image/png": "[encoded data removed]",
      "text/plain": [
       "<matplotlib.figure.Figure at 0x1a15f00a20>"
      ]
     },
     "metadata": {},
     "output_type": "display_data"
    },
    {
     "data": {
      "text/plain": [
       "<matplotlib.figure.Figure at 0x1a171e6198>"
      ]
     },
     "metadata": {},
     "output_type": "display_data"
    }
   ],
   "source": [
    "y=y_train.values.astype(int)\n",
    "plot_decision_regions(X_train.values, y, clf=model, legend=2)\n",
    "\n",
    "plt.title(\"Accuracy vs Distance\")\n",
    "plt.ylabel(\"shot_made_flag\")\n",
    "plt.xlabel(\"shot_distance\")\n",
    "plt.figure(figsize=(100,200))"
   ]
  },
  {
   "cell_type": "code",
   "execution_count": 41,
   "metadata": {},
   "outputs": [
    {
     "name": "stdout",
     "output_type": "stream",
     "text": [
      "Accuracy score using Logistic Regression: 59.44228274967575\n"
     ]
    }
   ],
   "source": [
    "y_pred = model.predict(X_test)\n",
    "acc = accuracy_score(y_test, y_pred)\n",
    "print(\"Accuracy score using Logistic Regression:\", acc*100)"
   ]
  },
  {
   "cell_type": "code",
   "execution_count": 9,
   "metadata": {},
   "outputs": [
    {
     "name": "stderr",
     "output_type": "stream",
     "text": [
      "/Users/haroldchang/anaconda3/lib/python3.6/site-packages/sklearn/cross_validation.py:41: DeprecationWarning: This module was deprecated in version 0.18 in favor of the model_selection module into which all the refactored classes and functions are moved. Also note that the interface of the new CV iterators are different from that of this module. This module will be removed in 0.20.\n",
      "  \"This module will be removed in 0.20.\", DeprecationWarning)\n",
      "/Users/haroldchang/anaconda3/lib/python3.6/site-packages/sklearn/grid_search.py:42: DeprecationWarning: This module was deprecated in version 0.18 in favor of the model_selection module into which all the refactored classes and functions are moved. This module will be removed in 0.20.\n",
      "  DeprecationWarning)\n"
     ]
    }
   ],
   "source": [
    "import numpy as np\n",
    "import pandas as pd\n",
    "import matplotlib.pyplot as plt\n",
    "%matplotlib inline\n",
    "import seaborn as sns\n",
    "import warnings\n",
    "warnings.filterwarnings('ignore')\n",
    "\n",
    "from sklearn.model_selection import train_test_split\n",
    "from sklearn.metrics import accuracy_score\n",
    "from sklearn.pipeline import Pipeline\n",
    "from sklearn.linear_model import LinearRegression\n",
    "\n",
    "from sklearn.feature_selection import VarianceThreshold, RFE\n",
    "from sklearn.ensemble import RandomForestClassifier\n",
    "from sklearn.linear_model import LogisticRegression\n",
    "from sklearn.cross_validation import KFold, cross_val_score\n",
    "from sklearn.grid_search import GridSearchCV\n",
    "from sklearn.neighbors import KNeighborsClassifier"
   ]
  },
  {
   "cell_type": "code",
   "execution_count": 10,
   "metadata": {},
   "outputs": [],
   "source": [
    "df = pd.read_csv(\"data.csv\")"
   ]
  },
  {
   "cell_type": "markdown",
   "metadata": {},
   "source": [
    "# Start of Clean and EDA"
   ]
  },
  {
   "cell_type": "code",
   "execution_count": 4,
   "metadata": {},
   "outputs": [
    {
     "data": {
      "text/html": [
       "<div>\n",
       "<style>\n",
       "    .dataframe thead tr:only-child th {\n",
       "        text-align: right;\n",
       "    }\n",
       "\n",
       "    .dataframe thead th {\n",
       "        text-align: left;\n",
       "    }\n",
       "\n",
       "    .dataframe tbody tr th {\n",
       "        vertical-align: top;\n",
       "    }\n",
       "</style>\n",
       "<table border=\"1\" class=\"dataframe\">\n",
       "  <thead>\n",
       "    <tr style=\"text-align: right;\">\n",
       "      <th></th>\n",
       "      <th>action_type</th>\n",
       "      <th>combined_shot_type</th>\n",
       "      <th>game_event_id</th>\n",
       "      <th>game_id</th>\n",
       "      <th>lat</th>\n",
       "      <th>loc_x</th>\n",
       "      <th>loc_y</th>\n",
       "      <th>lon</th>\n",
       "      <th>minutes_remaining</th>\n",
       "      <th>period</th>\n",
       "      <th>...</th>\n",
       "      <th>shot_type</th>\n",
       "      <th>shot_zone_area</th>\n",
       "      <th>shot_zone_basic</th>\n",
       "      <th>shot_zone_range</th>\n",
       "      <th>team_id</th>\n",
       "      <th>team_name</th>\n",
       "      <th>game_date</th>\n",
       "      <th>matchup</th>\n",
       "      <th>opponent</th>\n",
       "      <th>shot_id</th>\n",
       "    </tr>\n",
       "  </thead>\n",
       "  <tbody>\n",
       "    <tr>\n",
       "      <th>0</th>\n",
       "      <td>Jump Shot</td>\n",
       "      <td>Jump Shot</td>\n",
       "      <td>10</td>\n",
       "      <td>20000012</td>\n",
       "      <td>33.9723</td>\n",
       "      <td>167</td>\n",
       "      <td>72</td>\n",
       "      <td>-118.1028</td>\n",
       "      <td>10</td>\n",
       "      <td>1</td>\n",
       "      <td>...</td>\n",
       "      <td>2PT Field Goal</td>\n",
       "      <td>Right Side(R)</td>\n",
       "      <td>Mid-Range</td>\n",
       "      <td>16-24 ft.</td>\n",
       "      <td>1610612747</td>\n",
       "      <td>Los Angeles Lakers</td>\n",
       "      <td>2000-10-31</td>\n",
       "      <td>LAL @ POR</td>\n",
       "      <td>POR</td>\n",
       "      <td>1</td>\n",
       "    </tr>\n",
       "    <tr>\n",
       "      <th>1</th>\n",
       "      <td>Jump Shot</td>\n",
       "      <td>Jump Shot</td>\n",
       "      <td>12</td>\n",
       "      <td>20000012</td>\n",
       "      <td>34.0443</td>\n",
       "      <td>-157</td>\n",
       "      <td>0</td>\n",
       "      <td>-118.4268</td>\n",
       "      <td>10</td>\n",
       "      <td>1</td>\n",
       "      <td>...</td>\n",
       "      <td>2PT Field Goal</td>\n",
       "      <td>Left Side(L)</td>\n",
       "      <td>Mid-Range</td>\n",
       "      <td>8-16 ft.</td>\n",
       "      <td>1610612747</td>\n",
       "      <td>Los Angeles Lakers</td>\n",
       "      <td>2000-10-31</td>\n",
       "      <td>LAL @ POR</td>\n",
       "      <td>POR</td>\n",
       "      <td>2</td>\n",
       "    </tr>\n",
       "  </tbody>\n",
       "</table>\n",
       "<p>2 rows × 25 columns</p>\n",
       "</div>"
      ],
      "text/plain": [
       "  action_type combined_shot_type  game_event_id   game_id      lat  loc_x  \\\n",
       "0   Jump Shot          Jump Shot             10  20000012  33.9723    167   \n",
       "1   Jump Shot          Jump Shot             12  20000012  34.0443   -157   \n",
       "\n",
       "   loc_y       lon  minutes_remaining  period   ...          shot_type  \\\n",
       "0     72 -118.1028                 10       1   ...     2PT Field Goal   \n",
       "1      0 -118.4268                 10       1   ...     2PT Field Goal   \n",
       "\n",
       "  shot_zone_area  shot_zone_basic  shot_zone_range     team_id  \\\n",
       "0  Right Side(R)        Mid-Range        16-24 ft.  1610612747   \n",
       "1   Left Side(L)        Mid-Range         8-16 ft.  1610612747   \n",
       "\n",
       "            team_name   game_date    matchup opponent  shot_id  \n",
       "0  Los Angeles Lakers  2000-10-31  LAL @ POR      POR        1  \n",
       "1  Los Angeles Lakers  2000-10-31  LAL @ POR      POR        2  \n",
       "\n",
       "[2 rows x 25 columns]"
      ]
     },
     "execution_count": 4,
     "metadata": {},
     "output_type": "execute_result"
    }
   ],
   "source": [
    "df.head(2)"
   ]
  },
  {
   "cell_type": "code",
   "execution_count": 5,
   "metadata": {
    "collapsed": true
   },
   "outputs": [],
   "source": [
    "#Remove Useless data\n",
    "df.drop(['lat', 'lon','team_name','team_id'], axis=1, inplace=True)"
   ]
  },
  {
   "cell_type": "code",
   "execution_count": 6,
   "metadata": {
    "collapsed": true
   },
   "outputs": [],
   "source": [
    "#convert game_date to date time dtype\n",
    "df['game_date']=df['game_date'].apply(lambda x: x.split('-')).apply(lambda y: pd.datetime(int(y[0]),int(y[1]),int(y[2])))"
   ]
  },
  {
   "cell_type": "markdown",
   "metadata": {},
   "source": [
    "Making binary columns for \"matchup\""
   ]
  },
  {
   "cell_type": "code",
   "execution_count": 7,
   "metadata": {
    "collapsed": true
   },
   "outputs": [],
   "source": [
    "#df.matchup.value_counts()\n",
    "df['matchup']=df['matchup'].apply(lambda x: 1 if '@' in x else 0)\n"
   ]
  },
  {
   "cell_type": "markdown",
   "metadata": {},
   "source": [
    "Making binary columns for \"shot_type\" (3pt/2pt)"
   ]
  },
  {
   "cell_type": "code",
   "execution_count": 8,
   "metadata": {
    "collapsed": true
   },
   "outputs": [],
   "source": [
    "#df.shot_type.value_counts()\n",
    "df['shot_type']=df['shot_type'].apply(lambda x: 1 if '3' in x else 0)"
   ]
  },
  {
   "cell_type": "code",
   "execution_count": 9,
   "metadata": {
    "collapsed": true
   },
   "outputs": [],
   "source": [
    "#df=pd.get_dummies(df)"
   ]
  },
  {
   "cell_type": "code",
   "execution_count": 10,
   "metadata": {},
   "outputs": [
    {
     "data": {
      "text/html": [
       "<div>\n",
       "<style>\n",
       "    .dataframe thead tr:only-child th {\n",
       "        text-align: right;\n",
       "    }\n",
       "\n",
       "    .dataframe thead th {\n",
       "        text-align: left;\n",
       "    }\n",
       "\n",
       "    .dataframe tbody tr th {\n",
       "        vertical-align: top;\n",
       "    }\n",
       "</style>\n",
       "<table border=\"1\" class=\"dataframe\">\n",
       "  <thead>\n",
       "    <tr style=\"text-align: right;\">\n",
       "      <th></th>\n",
       "      <th>action_type</th>\n",
       "      <th>combined_shot_type</th>\n",
       "      <th>game_event_id</th>\n",
       "      <th>game_id</th>\n",
       "      <th>loc_x</th>\n",
       "      <th>loc_y</th>\n",
       "      <th>minutes_remaining</th>\n",
       "      <th>period</th>\n",
       "      <th>playoffs</th>\n",
       "      <th>season</th>\n",
       "      <th>...</th>\n",
       "      <th>shot_distance</th>\n",
       "      <th>shot_made_flag</th>\n",
       "      <th>shot_type</th>\n",
       "      <th>shot_zone_area</th>\n",
       "      <th>shot_zone_basic</th>\n",
       "      <th>shot_zone_range</th>\n",
       "      <th>game_date</th>\n",
       "      <th>matchup</th>\n",
       "      <th>opponent</th>\n",
       "      <th>shot_id</th>\n",
       "    </tr>\n",
       "  </thead>\n",
       "  <tbody>\n",
       "    <tr>\n",
       "      <th>0</th>\n",
       "      <td>Jump Shot</td>\n",
       "      <td>Jump Shot</td>\n",
       "      <td>10</td>\n",
       "      <td>20000012</td>\n",
       "      <td>167</td>\n",
       "      <td>72</td>\n",
       "      <td>10</td>\n",
       "      <td>1</td>\n",
       "      <td>0</td>\n",
       "      <td>2000-01</td>\n",
       "      <td>...</td>\n",
       "      <td>18</td>\n",
       "      <td>NaN</td>\n",
       "      <td>0</td>\n",
       "      <td>Right Side(R)</td>\n",
       "      <td>Mid-Range</td>\n",
       "      <td>16-24 ft.</td>\n",
       "      <td>2000-10-31</td>\n",
       "      <td>1</td>\n",
       "      <td>POR</td>\n",
       "      <td>1</td>\n",
       "    </tr>\n",
       "  </tbody>\n",
       "</table>\n",
       "<p>1 rows × 21 columns</p>\n",
       "</div>"
      ],
      "text/plain": [
       "  action_type combined_shot_type  game_event_id   game_id  loc_x  loc_y  \\\n",
       "0   Jump Shot          Jump Shot             10  20000012    167     72   \n",
       "\n",
       "   minutes_remaining  period  playoffs   season   ...    shot_distance  \\\n",
       "0                 10       1         0  2000-01   ...               18   \n",
       "\n",
       "   shot_made_flag  shot_type  shot_zone_area shot_zone_basic shot_zone_range  \\\n",
       "0             NaN          0   Right Side(R)       Mid-Range       16-24 ft.   \n",
       "\n",
       "   game_date matchup  opponent shot_id  \n",
       "0 2000-10-31       1       POR       1  \n",
       "\n",
       "[1 rows x 21 columns]"
      ]
     },
     "execution_count": 10,
     "metadata": {},
     "output_type": "execute_result"
    }
   ],
   "source": [
    "df.head(1)"
   ]
  },
  {
   "cell_type": "code",
   "execution_count": 11,
   "metadata": {
    "scrolled": true
   },
   "outputs": [
    {
     "data": {
      "text/plain": [
       "Jump Shot                             18880\n",
       "Layup Shot                             2567\n",
       "Driving Layup Shot                     1978\n",
       "Turnaround Jump Shot                   1057\n",
       "Fadeaway Jump Shot                     1048\n",
       "Running Jump Shot                       926\n",
       "Pullup Jump shot                        476\n",
       "Turnaround Fadeaway shot                439\n",
       "Slam Dunk Shot                          411\n",
       "Reverse Layup Shot                      395\n",
       "Jump Bank Shot                          333\n",
       "Driving Dunk Shot                       310\n",
       "Dunk Shot                               262\n",
       "Tip Shot                                182\n",
       "Alley Oop Dunk Shot                     122\n",
       "Step Back Jump shot                     118\n",
       "Floating Jump shot                      114\n",
       "Driving Reverse Layup Shot               97\n",
       "Hook Shot                                84\n",
       "Driving Finger Roll Shot                 82\n",
       "Alley Oop Layup shot                     80\n",
       "Reverse Dunk Shot                        75\n",
       "Running Layup Shot                       72\n",
       "Turnaround Bank shot                     71\n",
       "Driving Finger Roll Layup Shot           69\n",
       "Running Bank shot                        48\n",
       "Driving Slam Dunk Shot                   48\n",
       "Running Hook Shot                        41\n",
       "Finger Roll Layup Shot                   33\n",
       "Fadeaway Bank shot                       31\n",
       "Finger Roll Shot                         28\n",
       "Driving Jump shot                        28\n",
       "Jump Hook Shot                           24\n",
       "Running Dunk Shot                        19\n",
       "Reverse Slam Dunk Shot                   16\n",
       "Putback Layup Shot                       15\n",
       "Follow Up Dunk Shot                      15\n",
       "Turnaround Hook Shot                     14\n",
       "Driving Hook Shot                        14\n",
       "Pullup Bank shot                         12\n",
       "Running Reverse Layup Shot               11\n",
       "Cutting Layup Shot                        6\n",
       "Running Finger Roll Layup Shot            6\n",
       "Driving Floating Jump Shot                5\n",
       "Putback Dunk Shot                         5\n",
       "Driving Bank shot                         5\n",
       "Hook Bank Shot                            5\n",
       "Running Finger Roll Shot                  4\n",
       "Running Pull-Up Jump Shot                 4\n",
       "Tip Layup Shot                            2\n",
       "Putback Slam Dunk Shot                    2\n",
       "Running Tip Shot                          2\n",
       "Turnaround Finger Roll Shot               2\n",
       "Driving Floating Bank Jump Shot           1\n",
       "Turnaround Fadeaway Bank Jump Shot        1\n",
       "Cutting Finger Roll Layup Shot            1\n",
       "Running Slam Dunk Shot                    1\n",
       "Name: action_type, dtype: int64"
      ]
     },
     "execution_count": 11,
     "metadata": {},
     "output_type": "execute_result"
    }
   ],
   "source": [
    "df.action_type.value_counts()"
   ]
  },
  {
   "cell_type": "markdown",
   "metadata": {},
   "source": [
    "## There are too many action types with few occurances. Here we filtered out Kobe Bryant's 20 most common action types and placed the other ones under the category \"other.\"\n"
   ]
  },
  {
   "cell_type": "code",
   "execution_count": 12,
   "metadata": {},
   "outputs": [
    {
     "data": {
      "text/plain": [
       "Jump Shot                     18880\n",
       "Layup Shot                     2567\n",
       "Driving Layup Shot             1978\n",
       "Turnaround Jump Shot           1057\n",
       "Fadeaway Jump Shot             1048\n",
       "Running Jump Shot               926\n",
       "Other                           816\n",
       "Pullup Jump shot                476\n",
       "Turnaround Fadeaway shot        439\n",
       "Slam Dunk Shot                  411\n",
       "Reverse Layup Shot              395\n",
       "Jump Bank Shot                  333\n",
       "Driving Dunk Shot               310\n",
       "Dunk Shot                       262\n",
       "Tip Shot                        182\n",
       "Alley Oop Dunk Shot             122\n",
       "Step Back Jump shot             118\n",
       "Floating Jump shot              114\n",
       "Driving Reverse Layup Shot       97\n",
       "Hook Shot                        84\n",
       "Driving Finger Roll Shot         82\n",
       "Name: action_type, dtype: int64"
      ]
     },
     "execution_count": 12,
     "metadata": {},
     "output_type": "execute_result"
    }
   ],
   "source": [
    "most_common_action_types = df['action_type'].value_counts()[20:]\n",
    "common_types = most_common_action_types.index.values\n",
    "\n",
    "df.loc[df['action_type'].isin(common_types), 'action_type'] = 'Other'\n",
    "df['action_type'].value_counts()"
   ]
  },
  {
   "cell_type": "code",
   "execution_count": 13,
   "metadata": {},
   "outputs": [
    {
     "data": {
      "text/plain": [
       "3    8296\n",
       "1    8048\n",
       "4    7260\n",
       "2    6718\n",
       "5     330\n",
       "6      38\n",
       "7       7\n",
       "Name: period, dtype: int64"
      ]
     },
     "execution_count": 13,
     "metadata": {},
     "output_type": "execute_result"
    }
   ],
   "source": [
    "df['period'].value_counts()"
   ]
  },
  {
   "cell_type": "markdown",
   "metadata": {},
   "source": [
    "We then combined periods 5-7 into a single category \"overtime\""
   ]
  },
  {
   "cell_type": "code",
   "execution_count": 14,
   "metadata": {
    "scrolled": true
   },
   "outputs": [
    {
     "data": {
      "text/plain": [
       "3           8296\n",
       "1           8048\n",
       "4           7260\n",
       "2           6718\n",
       "overtime     375\n",
       "Name: period, dtype: int64"
      ]
     },
     "execution_count": 14,
     "metadata": {},
     "output_type": "execute_result"
    }
   ],
   "source": [
    "overtime = np.array([5, 6, 7])\n",
    "df.loc[df['period'].isin(overtime), 'period'] = 'overtime'\n",
    "df['period'].value_counts()"
   ]
  },
  {
   "cell_type": "code",
   "execution_count": 15,
   "metadata": {
    "collapsed": true,
    "scrolled": true
   },
   "outputs": [],
   "source": [
    "df['season']= df['season'].apply(lambda x: x[0:4])"
   ]
  },
  {
   "cell_type": "code",
   "execution_count": 16,
   "metadata": {},
   "outputs": [
    {
     "data": {
      "text/plain": [
       "action_type                   object\n",
       "combined_shot_type            object\n",
       "game_event_id                  int64\n",
       "game_id                        int64\n",
       "loc_x                          int64\n",
       "loc_y                          int64\n",
       "minutes_remaining              int64\n",
       "period                        object\n",
       "playoffs                       int64\n",
       "season                        object\n",
       "seconds_remaining              int64\n",
       "shot_distance                  int64\n",
       "shot_made_flag               float64\n",
       "shot_type                      int64\n",
       "shot_zone_area                object\n",
       "shot_zone_basic               object\n",
       "shot_zone_range               object\n",
       "game_date             datetime64[ns]\n",
       "matchup                        int64\n",
       "opponent                      object\n",
       "shot_id                        int64\n",
       "dtype: object"
      ]
     },
     "execution_count": 16,
     "metadata": {},
     "output_type": "execute_result"
    }
   ],
   "source": [
    "df.dtypes"
   ]
  },
  {
   "cell_type": "markdown",
   "metadata": {},
   "source": [
    "## Here we set an index and converted some of the data types to \"category\" for better summmerization purposes"
   ]
  },
  {
   "cell_type": "code",
   "execution_count": 17,
   "metadata": {
    "collapsed": true
   },
   "outputs": [],
   "source": [
    "df.set_index('shot_id', inplace=True)\n",
    "df[\"action_type\"] = df[\"action_type\"].astype('object')\n",
    "df[\"combined_shot_type\"] = df[\"combined_shot_type\"].astype('category')\n",
    "df[\"game_event_id\"] = df[\"game_event_id\"].astype('category')\n",
    "df[\"game_id\"] = df[\"game_id\"].astype('category')\n",
    "df[\"period\"] = df[\"period\"].astype('object')\n",
    "df[\"playoffs\"] = df[\"playoffs\"].astype('category')\n",
    "df[\"season\"] = df[\"season\"].astype('category')\n",
    "df[\"shot_made_flag\"] = df[\"shot_made_flag\"].astype('category')\n",
    "df[\"shot_type\"] = df[\"shot_type\"].astype('category')\n",
    "#df[\"team_id\"] = df[\"team_id\"].astype('category')"
   ]
  },
  {
   "cell_type": "code",
   "execution_count": 18,
   "metadata": {},
   "outputs": [
    {
     "data": {
      "text/html": [
       "<div>\n",
       "<style>\n",
       "    .dataframe thead tr:only-child th {\n",
       "        text-align: right;\n",
       "    }\n",
       "\n",
       "    .dataframe thead th {\n",
       "        text-align: left;\n",
       "    }\n",
       "\n",
       "    .dataframe tbody tr th {\n",
       "        vertical-align: top;\n",
       "    }\n",
       "</style>\n",
       "<table border=\"1\" class=\"dataframe\">\n",
       "  <thead>\n",
       "    <tr style=\"text-align: right;\">\n",
       "      <th></th>\n",
       "      <th>action_type</th>\n",
       "      <th>combined_shot_type</th>\n",
       "      <th>game_event_id</th>\n",
       "      <th>game_id</th>\n",
       "      <th>loc_x</th>\n",
       "      <th>loc_y</th>\n",
       "      <th>minutes_remaining</th>\n",
       "      <th>period</th>\n",
       "      <th>playoffs</th>\n",
       "      <th>season</th>\n",
       "      <th>seconds_remaining</th>\n",
       "      <th>shot_distance</th>\n",
       "      <th>shot_made_flag</th>\n",
       "      <th>shot_type</th>\n",
       "      <th>shot_zone_area</th>\n",
       "      <th>shot_zone_basic</th>\n",
       "      <th>shot_zone_range</th>\n",
       "      <th>game_date</th>\n",
       "      <th>matchup</th>\n",
       "      <th>opponent</th>\n",
       "    </tr>\n",
       "    <tr>\n",
       "      <th>shot_id</th>\n",
       "      <th></th>\n",
       "      <th></th>\n",
       "      <th></th>\n",
       "      <th></th>\n",
       "      <th></th>\n",
       "      <th></th>\n",
       "      <th></th>\n",
       "      <th></th>\n",
       "      <th></th>\n",
       "      <th></th>\n",
       "      <th></th>\n",
       "      <th></th>\n",
       "      <th></th>\n",
       "      <th></th>\n",
       "      <th></th>\n",
       "      <th></th>\n",
       "      <th></th>\n",
       "      <th></th>\n",
       "      <th></th>\n",
       "      <th></th>\n",
       "    </tr>\n",
       "  </thead>\n",
       "  <tbody>\n",
       "    <tr>\n",
       "      <th>1</th>\n",
       "      <td>Jump Shot</td>\n",
       "      <td>Jump Shot</td>\n",
       "      <td>10</td>\n",
       "      <td>20000012</td>\n",
       "      <td>167</td>\n",
       "      <td>72</td>\n",
       "      <td>10</td>\n",
       "      <td>1</td>\n",
       "      <td>0</td>\n",
       "      <td>2000</td>\n",
       "      <td>27</td>\n",
       "      <td>18</td>\n",
       "      <td>NaN</td>\n",
       "      <td>0</td>\n",
       "      <td>Right Side(R)</td>\n",
       "      <td>Mid-Range</td>\n",
       "      <td>16-24 ft.</td>\n",
       "      <td>2000-10-31</td>\n",
       "      <td>1</td>\n",
       "      <td>POR</td>\n",
       "    </tr>\n",
       "  </tbody>\n",
       "</table>\n",
       "</div>"
      ],
      "text/plain": [
       "        action_type combined_shot_type game_event_id   game_id  loc_x  loc_y  \\\n",
       "shot_id                                                                        \n",
       "1         Jump Shot          Jump Shot            10  20000012    167     72   \n",
       "\n",
       "         minutes_remaining period playoffs season  seconds_remaining  \\\n",
       "shot_id                                                                \n",
       "1                       10      1        0   2000                 27   \n",
       "\n",
       "         shot_distance shot_made_flag shot_type shot_zone_area  \\\n",
       "shot_id                                                          \n",
       "1                   18            NaN         0  Right Side(R)   \n",
       "\n",
       "        shot_zone_basic shot_zone_range  game_date  matchup opponent  \n",
       "shot_id                                                               \n",
       "1             Mid-Range       16-24 ft. 2000-10-31        1      POR  "
      ]
     },
     "execution_count": 18,
     "metadata": {},
     "output_type": "execute_result"
    }
   ],
   "source": [
    "df.head(1)"
   ]
  },
  {
   "cell_type": "code",
   "execution_count": 19,
   "metadata": {},
   "outputs": [
    {
     "data": {
      "text/plain": [
       "action_type                   object\n",
       "combined_shot_type          category\n",
       "game_event_id               category\n",
       "game_id                     category\n",
       "loc_x                          int64\n",
       "loc_y                          int64\n",
       "minutes_remaining              int64\n",
       "period                        object\n",
       "playoffs                    category\n",
       "season                      category\n",
       "seconds_remaining              int64\n",
       "shot_distance                  int64\n",
       "shot_made_flag              category\n",
       "shot_type                   category\n",
       "shot_zone_area                object\n",
       "shot_zone_basic               object\n",
       "shot_zone_range               object\n",
       "game_date             datetime64[ns]\n",
       "matchup                        int64\n",
       "opponent                      object\n",
       "dtype: object"
      ]
     },
     "execution_count": 19,
     "metadata": {},
     "output_type": "execute_result"
    }
   ],
   "source": [
    "df.dtypes"
   ]
  },
  {
   "cell_type": "markdown",
   "metadata": {},
   "source": [
    "## Here we looked at a few descriptive statisitics"
   ]
  },
  {
   "cell_type": "code",
   "execution_count": 20,
   "metadata": {},
   "outputs": [
    {
     "data": {
      "text/plain": [
       "(30697, 20)"
      ]
     },
     "execution_count": 20,
     "metadata": {},
     "output_type": "execute_result"
    }
   ],
   "source": [
    "df.shape"
   ]
  },
  {
   "cell_type": "code",
   "execution_count": 21,
   "metadata": {},
   "outputs": [
    {
     "data": {
      "text/html": [
       "<div>\n",
       "<style>\n",
       "    .dataframe thead tr:only-child th {\n",
       "        text-align: right;\n",
       "    }\n",
       "\n",
       "    .dataframe thead th {\n",
       "        text-align: left;\n",
       "    }\n",
       "\n",
       "    .dataframe tbody tr th {\n",
       "        vertical-align: top;\n",
       "    }\n",
       "</style>\n",
       "<table border=\"1\" class=\"dataframe\">\n",
       "  <thead>\n",
       "    <tr style=\"text-align: right;\">\n",
       "      <th></th>\n",
       "      <th>action_type</th>\n",
       "      <th>combined_shot_type</th>\n",
       "      <th>game_event_id</th>\n",
       "      <th>game_id</th>\n",
       "      <th>period</th>\n",
       "      <th>playoffs</th>\n",
       "      <th>season</th>\n",
       "      <th>shot_made_flag</th>\n",
       "      <th>shot_type</th>\n",
       "      <th>shot_zone_area</th>\n",
       "      <th>shot_zone_basic</th>\n",
       "      <th>shot_zone_range</th>\n",
       "      <th>opponent</th>\n",
       "    </tr>\n",
       "  </thead>\n",
       "  <tbody>\n",
       "    <tr>\n",
       "      <th>count</th>\n",
       "      <td>30697</td>\n",
       "      <td>30697</td>\n",
       "      <td>30697</td>\n",
       "      <td>30697</td>\n",
       "      <td>30697</td>\n",
       "      <td>30697</td>\n",
       "      <td>30697</td>\n",
       "      <td>25697.0</td>\n",
       "      <td>30697</td>\n",
       "      <td>30697</td>\n",
       "      <td>30697</td>\n",
       "      <td>30697</td>\n",
       "      <td>30697</td>\n",
       "    </tr>\n",
       "    <tr>\n",
       "      <th>unique</th>\n",
       "      <td>21</td>\n",
       "      <td>6</td>\n",
       "      <td>620</td>\n",
       "      <td>1559</td>\n",
       "      <td>5</td>\n",
       "      <td>2</td>\n",
       "      <td>20</td>\n",
       "      <td>2.0</td>\n",
       "      <td>2</td>\n",
       "      <td>6</td>\n",
       "      <td>7</td>\n",
       "      <td>5</td>\n",
       "      <td>33</td>\n",
       "    </tr>\n",
       "    <tr>\n",
       "      <th>top</th>\n",
       "      <td>Jump Shot</td>\n",
       "      <td>Jump Shot</td>\n",
       "      <td>2</td>\n",
       "      <td>21501228</td>\n",
       "      <td>3</td>\n",
       "      <td>0</td>\n",
       "      <td>2005</td>\n",
       "      <td>0.0</td>\n",
       "      <td>0</td>\n",
       "      <td>Center(C)</td>\n",
       "      <td>Mid-Range</td>\n",
       "      <td>Less Than 8 ft.</td>\n",
       "      <td>SAS</td>\n",
       "    </tr>\n",
       "    <tr>\n",
       "      <th>freq</th>\n",
       "      <td>18880</td>\n",
       "      <td>23485</td>\n",
       "      <td>132</td>\n",
       "      <td>50</td>\n",
       "      <td>8296</td>\n",
       "      <td>26198</td>\n",
       "      <td>2318</td>\n",
       "      <td>14232.0</td>\n",
       "      <td>24271</td>\n",
       "      <td>13455</td>\n",
       "      <td>12625</td>\n",
       "      <td>9398</td>\n",
       "      <td>1978</td>\n",
       "    </tr>\n",
       "  </tbody>\n",
       "</table>\n",
       "</div>"
      ],
      "text/plain": [
       "       action_type combined_shot_type  game_event_id   game_id  period  \\\n",
       "count        30697              30697          30697     30697   30697   \n",
       "unique          21                  6            620      1559       5   \n",
       "top      Jump Shot          Jump Shot              2  21501228       3   \n",
       "freq         18880              23485            132        50    8296   \n",
       "\n",
       "        playoffs season  shot_made_flag  shot_type shot_zone_area  \\\n",
       "count      30697  30697         25697.0      30697          30697   \n",
       "unique         2     20             2.0          2              6   \n",
       "top            0   2005             0.0          0      Center(C)   \n",
       "freq       26198   2318         14232.0      24271          13455   \n",
       "\n",
       "       shot_zone_basic  shot_zone_range opponent  \n",
       "count            30697            30697    30697  \n",
       "unique               7                5       33  \n",
       "top          Mid-Range  Less Than 8 ft.      SAS  \n",
       "freq             12625             9398     1978  "
      ]
     },
     "execution_count": 21,
     "metadata": {},
     "output_type": "execute_result"
    }
   ],
   "source": [
    "#Categorical Columns\n",
    "df.describe(include=['object', 'category'])"
   ]
  },
  {
   "cell_type": "code",
   "execution_count": 22,
   "metadata": {},
   "outputs": [
    {
     "data": {
      "text/html": [
       "<div>\n",
       "<style>\n",
       "    .dataframe thead tr:only-child th {\n",
       "        text-align: right;\n",
       "    }\n",
       "\n",
       "    .dataframe thead th {\n",
       "        text-align: left;\n",
       "    }\n",
       "\n",
       "    .dataframe tbody tr th {\n",
       "        vertical-align: top;\n",
       "    }\n",
       "</style>\n",
       "<table border=\"1\" class=\"dataframe\">\n",
       "  <thead>\n",
       "    <tr style=\"text-align: right;\">\n",
       "      <th></th>\n",
       "      <th>loc_x</th>\n",
       "      <th>loc_y</th>\n",
       "      <th>minutes_remaining</th>\n",
       "      <th>seconds_remaining</th>\n",
       "      <th>shot_distance</th>\n",
       "      <th>matchup</th>\n",
       "    </tr>\n",
       "  </thead>\n",
       "  <tbody>\n",
       "    <tr>\n",
       "      <th>mean</th>\n",
       "      <td>7.110499</td>\n",
       "      <td>91.107535</td>\n",
       "      <td>4.885624</td>\n",
       "      <td>28.365085</td>\n",
       "      <td>13.437437</td>\n",
       "      <td>0.512786</td>\n",
       "    </tr>\n",
       "    <tr>\n",
       "      <th>min</th>\n",
       "      <td>-250.000000</td>\n",
       "      <td>-44.000000</td>\n",
       "      <td>0.000000</td>\n",
       "      <td>0.000000</td>\n",
       "      <td>0.000000</td>\n",
       "      <td>0.000000</td>\n",
       "    </tr>\n",
       "    <tr>\n",
       "      <th>max</th>\n",
       "      <td>248.000000</td>\n",
       "      <td>791.000000</td>\n",
       "      <td>11.000000</td>\n",
       "      <td>59.000000</td>\n",
       "      <td>79.000000</td>\n",
       "      <td>1.000000</td>\n",
       "    </tr>\n",
       "  </tbody>\n",
       "</table>\n",
       "</div>"
      ],
      "text/plain": [
       "           loc_x       loc_y  minutes_remaining  seconds_remaining  \\\n",
       "mean    7.110499   91.107535           4.885624          28.365085   \n",
       "min  -250.000000  -44.000000           0.000000           0.000000   \n",
       "max   248.000000  791.000000          11.000000          59.000000   \n",
       "\n",
       "      shot_distance   matchup  \n",
       "mean      13.437437  0.512786  \n",
       "min        0.000000  0.000000  \n",
       "max       79.000000  1.000000  "
      ]
     },
     "execution_count": 22,
     "metadata": {},
     "output_type": "execute_result"
    }
   ],
   "source": [
    "#Numerical Columns\n",
    "df.describe(include=['number']).loc[[\"mean\",\"min\",\"max\"]]"
   ]
  },
  {
   "cell_type": "markdown",
   "metadata": {
    "collapsed": true
   },
   "source": [
    "## Supporting Data Visualization"
   ]
  },
  {
   "cell_type": "markdown",
   "metadata": {},
   "source": [
    "Here we look at our selected target class('shot_made_flag) to check for dataset imbalances"
   ]
  },
  {
   "cell_type": "code",
   "execution_count": 23,
   "metadata": {
    "scrolled": false
   },
   "outputs": [
    {
     "data": {
      "image/png": "[encoded data removed]",
      "text/plain": [
       "<matplotlib.figure.Figure at 0x11ba2e198>"
      ]
     },
     "metadata": {},
     "output_type": "display_data"
    }
   ],
   "source": [
    "xy = plt.axes()\n",
    "sns.countplot(x='shot_made_flag', data=df, ax=xy);\n",
    "xy.set_title('Target Class Distribution')\n",
    "plt.show()"
   ]
  },
  {
   "cell_type": "code",
   "execution_count": 24,
   "metadata": {
    "scrolled": true
   },
   "outputs": [
    {
     "data": {
      "text/html": [
       "<div>\n",
       "<style>\n",
       "    .dataframe thead tr:only-child th {\n",
       "        text-align: right;\n",
       "    }\n",
       "\n",
       "    .dataframe thead th {\n",
       "        text-align: left;\n",
       "    }\n",
       "\n",
       "    .dataframe tbody tr th {\n",
       "        vertical-align: top;\n",
       "    }\n",
       "</style>\n",
       "<table border=\"1\" class=\"dataframe\">\n",
       "  <thead>\n",
       "    <tr style=\"text-align: right;\">\n",
       "      <th></th>\n",
       "      <th>loc_x</th>\n",
       "      <th>loc_y</th>\n",
       "      <th>minutes_remaining</th>\n",
       "      <th>seconds_remaining</th>\n",
       "      <th>shot_distance</th>\n",
       "      <th>game_date</th>\n",
       "      <th>matchup</th>\n",
       "      <th>action_type_Alley Oop Dunk Shot</th>\n",
       "      <th>action_type_Driving Dunk Shot</th>\n",
       "      <th>action_type_Driving Finger Roll Shot</th>\n",
       "      <th>...</th>\n",
       "      <th>opponent_PHI</th>\n",
       "      <th>opponent_PHX</th>\n",
       "      <th>opponent_POR</th>\n",
       "      <th>opponent_SAC</th>\n",
       "      <th>opponent_SAS</th>\n",
       "      <th>opponent_SEA</th>\n",
       "      <th>opponent_TOR</th>\n",
       "      <th>opponent_UTA</th>\n",
       "      <th>opponent_VAN</th>\n",
       "      <th>opponent_WAS</th>\n",
       "    </tr>\n",
       "    <tr>\n",
       "      <th>shot_id</th>\n",
       "      <th></th>\n",
       "      <th></th>\n",
       "      <th></th>\n",
       "      <th></th>\n",
       "      <th></th>\n",
       "      <th></th>\n",
       "      <th></th>\n",
       "      <th></th>\n",
       "      <th></th>\n",
       "      <th></th>\n",
       "      <th></th>\n",
       "      <th></th>\n",
       "      <th></th>\n",
       "      <th></th>\n",
       "      <th></th>\n",
       "      <th></th>\n",
       "      <th></th>\n",
       "      <th></th>\n",
       "      <th></th>\n",
       "      <th></th>\n",
       "      <th></th>\n",
       "    </tr>\n",
       "  </thead>\n",
       "  <tbody>\n",
       "    <tr>\n",
       "      <th>1</th>\n",
       "      <td>167</td>\n",
       "      <td>72</td>\n",
       "      <td>10</td>\n",
       "      <td>27</td>\n",
       "      <td>18</td>\n",
       "      <td>2000-10-31</td>\n",
       "      <td>1</td>\n",
       "      <td>0</td>\n",
       "      <td>0</td>\n",
       "      <td>0</td>\n",
       "      <td>...</td>\n",
       "      <td>0</td>\n",
       "      <td>0</td>\n",
       "      <td>1</td>\n",
       "      <td>0</td>\n",
       "      <td>0</td>\n",
       "      <td>0</td>\n",
       "      <td>0</td>\n",
       "      <td>0</td>\n",
       "      <td>0</td>\n",
       "      <td>0</td>\n",
       "    </tr>\n",
       "    <tr>\n",
       "      <th>2</th>\n",
       "      <td>-157</td>\n",
       "      <td>0</td>\n",
       "      <td>10</td>\n",
       "      <td>22</td>\n",
       "      <td>15</td>\n",
       "      <td>2000-10-31</td>\n",
       "      <td>1</td>\n",
       "      <td>0</td>\n",
       "      <td>0</td>\n",
       "      <td>0</td>\n",
       "      <td>...</td>\n",
       "      <td>0</td>\n",
       "      <td>0</td>\n",
       "      <td>1</td>\n",
       "      <td>0</td>\n",
       "      <td>0</td>\n",
       "      <td>0</td>\n",
       "      <td>0</td>\n",
       "      <td>0</td>\n",
       "      <td>0</td>\n",
       "      <td>0</td>\n",
       "    </tr>\n",
       "    <tr>\n",
       "      <th>3</th>\n",
       "      <td>-101</td>\n",
       "      <td>135</td>\n",
       "      <td>7</td>\n",
       "      <td>45</td>\n",
       "      <td>16</td>\n",
       "      <td>2000-10-31</td>\n",
       "      <td>1</td>\n",
       "      <td>0</td>\n",
       "      <td>0</td>\n",
       "      <td>0</td>\n",
       "      <td>...</td>\n",
       "      <td>0</td>\n",
       "      <td>0</td>\n",
       "      <td>1</td>\n",
       "      <td>0</td>\n",
       "      <td>0</td>\n",
       "      <td>0</td>\n",
       "      <td>0</td>\n",
       "      <td>0</td>\n",
       "      <td>0</td>\n",
       "      <td>0</td>\n",
       "    </tr>\n",
       "    <tr>\n",
       "      <th>4</th>\n",
       "      <td>138</td>\n",
       "      <td>175</td>\n",
       "      <td>6</td>\n",
       "      <td>52</td>\n",
       "      <td>22</td>\n",
       "      <td>2000-10-31</td>\n",
       "      <td>1</td>\n",
       "      <td>0</td>\n",
       "      <td>0</td>\n",
       "      <td>0</td>\n",
       "      <td>...</td>\n",
       "      <td>0</td>\n",
       "      <td>0</td>\n",
       "      <td>1</td>\n",
       "      <td>0</td>\n",
       "      <td>0</td>\n",
       "      <td>0</td>\n",
       "      <td>0</td>\n",
       "      <td>0</td>\n",
       "      <td>0</td>\n",
       "      <td>0</td>\n",
       "    </tr>\n",
       "    <tr>\n",
       "      <th>5</th>\n",
       "      <td>0</td>\n",
       "      <td>0</td>\n",
       "      <td>6</td>\n",
       "      <td>19</td>\n",
       "      <td>0</td>\n",
       "      <td>2000-10-31</td>\n",
       "      <td>1</td>\n",
       "      <td>0</td>\n",
       "      <td>1</td>\n",
       "      <td>0</td>\n",
       "      <td>...</td>\n",
       "      <td>0</td>\n",
       "      <td>0</td>\n",
       "      <td>1</td>\n",
       "      <td>0</td>\n",
       "      <td>0</td>\n",
       "      <td>0</td>\n",
       "      <td>0</td>\n",
       "      <td>0</td>\n",
       "      <td>0</td>\n",
       "      <td>0</td>\n",
       "    </tr>\n",
       "  </tbody>\n",
       "</table>\n",
       "<p>5 rows × 2295 columns</p>\n",
       "</div>"
      ],
      "text/plain": [
       "         loc_x  loc_y  minutes_remaining  seconds_remaining  shot_distance  \\\n",
       "shot_id                                                                      \n",
       "1          167     72                 10                 27             18   \n",
       "2         -157      0                 10                 22             15   \n",
       "3         -101    135                  7                 45             16   \n",
       "4          138    175                  6                 52             22   \n",
       "5            0      0                  6                 19              0   \n",
       "\n",
       "         game_date  matchup  action_type_Alley Oop Dunk Shot  \\\n",
       "shot_id                                                        \n",
       "1       2000-10-31        1                                0   \n",
       "2       2000-10-31        1                                0   \n",
       "3       2000-10-31        1                                0   \n",
       "4       2000-10-31        1                                0   \n",
       "5       2000-10-31        1                                0   \n",
       "\n",
       "         action_type_Driving Dunk Shot  action_type_Driving Finger Roll Shot  \\\n",
       "shot_id                                                                        \n",
       "1                                    0                                     0   \n",
       "2                                    0                                     0   \n",
       "3                                    0                                     0   \n",
       "4                                    0                                     0   \n",
       "5                                    1                                     0   \n",
       "\n",
       "             ...       opponent_PHI  opponent_PHX  opponent_POR  opponent_SAC  \\\n",
       "shot_id      ...                                                                \n",
       "1            ...                  0             0             1             0   \n",
       "2            ...                  0             0             1             0   \n",
       "3            ...                  0             0             1             0   \n",
       "4            ...                  0             0             1             0   \n",
       "5            ...                  0             0             1             0   \n",
       "\n",
       "         opponent_SAS  opponent_SEA  opponent_TOR  opponent_UTA  opponent_VAN  \\\n",
       "shot_id                                                                         \n",
       "1                   0             0             0             0             0   \n",
       "2                   0             0             0             0             0   \n",
       "3                   0             0             0             0             0   \n",
       "4                   0             0             0             0             0   \n",
       "5                   0             0             0             0             0   \n",
       "\n",
       "         opponent_WAS  \n",
       "shot_id                \n",
       "1                   0  \n",
       "2                   0  \n",
       "3                   0  \n",
       "4                   0  \n",
       "5                   0  \n",
       "\n",
       "[5 rows x 2295 columns]"
      ]
     },
     "execution_count": 24,
     "metadata": {},
     "output_type": "execute_result"
    }
   ],
   "source": [
    "df=pd.get_dummies(df)\n",
    "df.head()"
   ]
  },
  {
   "cell_type": "code",
   "execution_count": 35,
   "metadata": {},
   "outputs": [
    {
     "name": "stdout",
     "output_type": "stream",
     "text": [
      "Prediction: [18 15 16 ..., 21 26  7]\n"
     ]
    }
   ],
   "source": [
    "# KNN\n",
    "from sklearn.neighbors import KNeighborsClassifier\n",
    "knn = KNeighborsClassifier(n_neighbors = 3)\n",
    "#x,y = data.loc[:,data.columns != 'shot_distance'], data.loc[:,'shot_distance']\n",
    "x,y = df.loc[:,df.columns != 'game_date'], df.loc[:,'shot_distance']\n",
    "#y = data.loc[:,data.columns != 'shot_distance'], data.loc[:,'shot_distance']\n",
    "knn.fit(x,y)\n",
    "prediction = knn.predict(x)\n",
    "print('Prediction: {}'.format(prediction))"
   ]
  },
  {
   "cell_type": "code",
   "execution_count": 36,
   "metadata": {},
   "outputs": [
    {
     "name": "stdout",
     "output_type": "stream",
     "text": [
      "With KNN (K=3) accuracy is:  0.808034744843\n"
     ]
    }
   ],
   "source": [
    "# train test split\n",
    "from sklearn.model_selection import train_test_split\n",
    "x_train,x_test,y_train,y_test = train_test_split(x,y,test_size = 0.3,random_state = 1)\n",
    "knn = KNeighborsClassifier(n_neighbors = 4)\n",
    "x,y = df.loc[:,df.columns != 'shot_distance'], df.loc[:,'shot_distance']\n",
    "knn.fit(x_train,y_train)\n",
    "prediction = knn.predict(x_test)\n",
    "#print('Prediction: {}'.format(prediction))\n",
    "print('With KNN (K=3) accuracy is: ',knn.score(x_test,y_test)) # accuracy"
   ]
  },
  {
   "cell_type": "code",
   "execution_count": 37,
   "metadata": {
    "scrolled": true
   },
   "outputs": [
    {
     "data": {
      "image/png": "[encoded data removed]",
      "text/plain": [
       "<matplotlib.figure.Figure at 0x11ba59470>"
      ]
     },
     "metadata": {},
     "output_type": "display_data"
    },
    {
     "name": "stdout",
     "output_type": "stream",
     "text": [
      "Best accuracy is 0.8144408251900108 with K = 1\n"
     ]
    }
   ],
   "source": [
    "# Model complexity\n",
    "neig = np.arange(1, 3)\n",
    "train_accuracy = []\n",
    "test_accuracy = []\n",
    "# Loop over different values of k\n",
    "for i, k in enumerate(neig):\n",
    "    # k from 1 to 25(exclude)\n",
    "    knn = KNeighborsClassifier(n_neighbors=k)\n",
    "    # Fit with knn\n",
    "    knn.fit(x_train,y_train)\n",
    "    #train accuracy\n",
    "    train_accuracy.append(knn.score(x_train, y_train))\n",
    "    # test accuracy\n",
    "    test_accuracy.append(knn.score(x_test, y_test))\n",
    "\n",
    "# Plot\n",
    "plt.figure(figsize=[13,8])\n",
    "plt.plot(neig, test_accuracy, label = 'Testing Accuracy')\n",
    "plt.plot(neig, train_accuracy, label = 'Training Accuracy')\n",
    "plt.legend()\n",
    "plt.title('-value VS Accuracy')\n",
    "plt.xlabel('Number of Neighbors')\n",
    "plt.ylabel('Accuracy')\n",
    "plt.xticks(neig)\n",
    "#plt.savefig('graph.png')\n",
    "plt.show()\n",
    "print(\"Best accuracy is {} with K = {}\".format(np.max(test_accuracy),1+test_accuracy.index(np.max(test_accuracy))))"
   ]
  },
  {
   "cell_type": "markdown",
   "metadata": {},
   "source": [
    "## Random Forest Classifier\n",
    "https://www.kaggle.com/gargmanish/basic-machine-learning-with-cancer"
   ]
  },
  {
   "cell_type": "code",
   "execution_count": 46,
   "metadata": {},
   "outputs": [
    {
     "name": "stdout",
     "output_type": "stream",
     "text": [
      "(21487, 2295)\n",
      "(9210, 2295)\n"
     ]
    }
   ],
   "source": [
    "from sklearn import metrics\n",
    "from sklearn import svm \n",
    "prediction_var = ['seconds_remaining','shot_distance','minutes_remaining', 'matchup']\n",
    "\n",
    "train, test = train_test_split(df, test_size = 0.3)# in this our main data is splitted into train and test\n",
    "# we can check their dimension\n",
    "print(train.shape)\n",
    "print(test.shape)"
   ]
  },
  {
   "cell_type": "code",
   "execution_count": 47,
   "metadata": {},
   "outputs": [],
   "source": [
    "train_X = train[prediction_var]# taking the training data input \n",
    "train_y=train.seconds_remaining# This is output of our training data\n",
    "# same we have to do for test\n",
    "test_X= test[prediction_var] # taking test data inputs\n",
    "test_y =test.seconds_remaining   #output value of test dat"
   ]
  },
  {
   "cell_type": "code",
   "execution_count": 48,
   "metadata": {},
   "outputs": [
    {
     "data": {
      "text/plain": [
       "RandomForestClassifier(bootstrap=True, class_weight=None, criterion='gini',\n",
       "            max_depth=None, max_features='auto', max_leaf_nodes=None,\n",
       "            min_impurity_split=1e-07, min_samples_leaf=1,\n",
       "            min_samples_split=2, min_weight_fraction_leaf=0.0,\n",
       "            n_estimators=120, n_jobs=1, oob_score=False, random_state=None,\n",
       "            verbose=0, warm_start=False)"
      ]
     },
     "execution_count": 48,
     "metadata": {},
     "output_type": "execute_result"
    }
   ],
   "source": [
    "model=RandomForestClassifier(n_estimators=120)# a simple random forest model\n",
    "model.fit(train_X,train_y)# now fit our model for traiing data"
   ]
  },
  {
   "cell_type": "code",
   "execution_count": 49,
   "metadata": {},
   "outputs": [
    {
     "data": {
      "text/plain": [
       "0.94429967426710093"
      ]
     },
     "execution_count": 49,
     "metadata": {},
     "output_type": "execute_result"
    }
   ],
   "source": [
    "prediction=model.predict(test_X)\n",
    "metrics.accuracy_score(prediction,test_y)"
   ]
  },
  {
   "cell_type": "code",
   "execution_count": 50,
   "metadata": {},
   "outputs": [
    {
     "data": {
      "text/plain": [
       "0.9908794788273616"
      ]
     },
     "execution_count": 50,
     "metadata": {},
     "output_type": "execute_result"
    }
   ],
   "source": [
    "# Now lets compare to a SVM\n",
    "model = svm.SVC()\n",
    "model.fit(train_X,train_y)\n",
    "prediction=model.predict(test_X)\n",
    "metrics.accuracy_score(prediction,test_y)"
   ]
  },
  {
   "cell_type": "code",
   "execution_count": 67,
   "metadata": {},
   "outputs": [
    {
     "ename": "KeyError",
     "evalue": "'shot_made_flag'",
     "output_type": "error",
     "traceback": [
      "\u001b[0;31m---------------------------------------------------------------------------\u001b[0m",
      "\u001b[0;31mKeyError\u001b[0m                                  Traceback (most recent call last)",
      "\u001b[0;32m/Users/justinklemperer/anaconda/lib/python3.6/site-packages/pandas/core/indexes/base.py\u001b[0m in \u001b[0;36mget_loc\u001b[0;34m(self, key, method, tolerance)\u001b[0m\n\u001b[1;32m   2392\u001b[0m             \u001b[0;32mtry\u001b[0m\u001b[0;34m:\u001b[0m\u001b[0;34m\u001b[0m\u001b[0m\n\u001b[0;32m-> 2393\u001b[0;31m                 \u001b[0;32mreturn\u001b[0m \u001b[0mself\u001b[0m\u001b[0;34m.\u001b[0m\u001b[0m_engine\u001b[0m\u001b[0;34m.\u001b[0m\u001b[0mget_loc\u001b[0m\u001b[0;34m(\u001b[0m\u001b[0mkey\u001b[0m\u001b[0;34m)\u001b[0m\u001b[0;34m\u001b[0m\u001b[0m\n\u001b[0m\u001b[1;32m   2394\u001b[0m             \u001b[0;32mexcept\u001b[0m \u001b[0mKeyError\u001b[0m\u001b[0;34m:\u001b[0m\u001b[0;34m\u001b[0m\u001b[0m\n",
      "\u001b[0;32mpandas/_libs/index.pyx\u001b[0m in \u001b[0;36mpandas._libs.index.IndexEngine.get_loc (pandas/_libs/index.c:5239)\u001b[0;34m()\u001b[0m\n",
      "\u001b[0;32mpandas/_libs/index.pyx\u001b[0m in \u001b[0;36mpandas._libs.index.IndexEngine.get_loc (pandas/_libs/index.c:5085)\u001b[0;34m()\u001b[0m\n",
      "\u001b[0;32mpandas/_libs/hashtable_class_helper.pxi\u001b[0m in \u001b[0;36mpandas._libs.hashtable.PyObjectHashTable.get_item (pandas/_libs/hashtable.c:20405)\u001b[0;34m()\u001b[0m\n",
      "\u001b[0;32mpandas/_libs/hashtable_class_helper.pxi\u001b[0m in \u001b[0;36mpandas._libs.hashtable.PyObjectHashTable.get_item (pandas/_libs/hashtable.c:20359)\u001b[0;34m()\u001b[0m\n",
      "\u001b[0;31mKeyError\u001b[0m: 'shot_made_flag'",
      "\nDuring handling of the above exception, another exception occurred:\n",
      "\u001b[0;31mKeyError\u001b[0m                                  Traceback (most recent call last)",
      "\u001b[0;32m<ipython-input-67-2d1281b5a586>\u001b[0m in \u001b[0;36m<module>\u001b[0;34m()\u001b[0m\n\u001b[0;32m----> 1\u001b[0;31m \u001b[0mholdout\u001b[0m \u001b[0;34m=\u001b[0m \u001b[0mdf\u001b[0m\u001b[0;34m[\u001b[0m\u001b[0mdf\u001b[0m\u001b[0;34m[\u001b[0m\u001b[0;34m'shot_made_flag'\u001b[0m\u001b[0;34m]\u001b[0m\u001b[0;34m.\u001b[0m\u001b[0misnull\u001b[0m\u001b[0;34m(\u001b[0m\u001b[0;34m)\u001b[0m\u001b[0;34m]\u001b[0m\u001b[0;34m\u001b[0m\u001b[0m\n\u001b[0m\u001b[1;32m      2\u001b[0m \u001b[0mdata\u001b[0m \u001b[0;34m=\u001b[0m \u001b[0mdf\u001b[0m\u001b[0;34m[\u001b[0m\u001b[0mdf\u001b[0m\u001b[0;34m[\u001b[0m\u001b[0;34m'shot_made_flag'\u001b[0m\u001b[0;34m]\u001b[0m\u001b[0;34m.\u001b[0m\u001b[0mnotnull\u001b[0m\u001b[0;34m(\u001b[0m\u001b[0;34m)\u001b[0m\u001b[0;34m]\u001b[0m\u001b[0;34m\u001b[0m\u001b[0m\n\u001b[1;32m      3\u001b[0m \u001b[0;34m\u001b[0m\u001b[0m\n\u001b[1;32m      4\u001b[0m \u001b[0my\u001b[0m\u001b[0;34m=\u001b[0m\u001b[0mdata\u001b[0m\u001b[0;34m[\u001b[0m\u001b[0;34m'shot_made_flag'\u001b[0m\u001b[0;34m]\u001b[0m\u001b[0;34m\u001b[0m\u001b[0m\n\u001b[1;32m      5\u001b[0m \u001b[0mX\u001b[0m\u001b[0;34m=\u001b[0m\u001b[0mdata\u001b[0m\u001b[0;34m.\u001b[0m\u001b[0mdrop\u001b[0m\u001b[0;34m(\u001b[0m\u001b[0;34m[\u001b[0m\u001b[0;34m'shot_made_flag'\u001b[0m\u001b[0;34m,\u001b[0m \u001b[0;34m'shot_id'\u001b[0m\u001b[0;34m]\u001b[0m\u001b[0;34m,\u001b[0m \u001b[0maxis\u001b[0m\u001b[0;34m=\u001b[0m\u001b[0;36m1\u001b[0m\u001b[0;34m)\u001b[0m\u001b[0;34m\u001b[0m\u001b[0m\n",
      "\u001b[0;32m/Users/justinklemperer/anaconda/lib/python3.6/site-packages/pandas/core/frame.py\u001b[0m in \u001b[0;36m__getitem__\u001b[0;34m(self, key)\u001b[0m\n\u001b[1;32m   2060\u001b[0m             \u001b[0;32mreturn\u001b[0m \u001b[0mself\u001b[0m\u001b[0;34m.\u001b[0m\u001b[0m_getitem_multilevel\u001b[0m\u001b[0;34m(\u001b[0m\u001b[0mkey\u001b[0m\u001b[0;34m)\u001b[0m\u001b[0;34m\u001b[0m\u001b[0m\n\u001b[1;32m   2061\u001b[0m         \u001b[0;32melse\u001b[0m\u001b[0;34m:\u001b[0m\u001b[0;34m\u001b[0m\u001b[0m\n\u001b[0;32m-> 2062\u001b[0;31m             \u001b[0;32mreturn\u001b[0m \u001b[0mself\u001b[0m\u001b[0;34m.\u001b[0m\u001b[0m_getitem_column\u001b[0m\u001b[0;34m(\u001b[0m\u001b[0mkey\u001b[0m\u001b[0;34m)\u001b[0m\u001b[0;34m\u001b[0m\u001b[0m\n\u001b[0m\u001b[1;32m   2063\u001b[0m \u001b[0;34m\u001b[0m\u001b[0m\n\u001b[1;32m   2064\u001b[0m     \u001b[0;32mdef\u001b[0m \u001b[0m_getitem_column\u001b[0m\u001b[0;34m(\u001b[0m\u001b[0mself\u001b[0m\u001b[0;34m,\u001b[0m \u001b[0mkey\u001b[0m\u001b[0;34m)\u001b[0m\u001b[0;34m:\u001b[0m\u001b[0;34m\u001b[0m\u001b[0m\n",
      "\u001b[0;32m/Users/justinklemperer/anaconda/lib/python3.6/site-packages/pandas/core/frame.py\u001b[0m in \u001b[0;36m_getitem_column\u001b[0;34m(self, key)\u001b[0m\n\u001b[1;32m   2067\u001b[0m         \u001b[0;31m# get column\u001b[0m\u001b[0;34m\u001b[0m\u001b[0;34m\u001b[0m\u001b[0m\n\u001b[1;32m   2068\u001b[0m         \u001b[0;32mif\u001b[0m \u001b[0mself\u001b[0m\u001b[0;34m.\u001b[0m\u001b[0mcolumns\u001b[0m\u001b[0;34m.\u001b[0m\u001b[0mis_unique\u001b[0m\u001b[0;34m:\u001b[0m\u001b[0;34m\u001b[0m\u001b[0m\n\u001b[0;32m-> 2069\u001b[0;31m             \u001b[0;32mreturn\u001b[0m \u001b[0mself\u001b[0m\u001b[0;34m.\u001b[0m\u001b[0m_get_item_cache\u001b[0m\u001b[0;34m(\u001b[0m\u001b[0mkey\u001b[0m\u001b[0;34m)\u001b[0m\u001b[0;34m\u001b[0m\u001b[0m\n\u001b[0m\u001b[1;32m   2070\u001b[0m \u001b[0;34m\u001b[0m\u001b[0m\n\u001b[1;32m   2071\u001b[0m         \u001b[0;31m# duplicate columns & possible reduce dimensionality\u001b[0m\u001b[0;34m\u001b[0m\u001b[0;34m\u001b[0m\u001b[0m\n",
      "\u001b[0;32m/Users/justinklemperer/anaconda/lib/python3.6/site-packages/pandas/core/generic.py\u001b[0m in \u001b[0;36m_get_item_cache\u001b[0;34m(self, item)\u001b[0m\n\u001b[1;32m   1532\u001b[0m         \u001b[0mres\u001b[0m \u001b[0;34m=\u001b[0m \u001b[0mcache\u001b[0m\u001b[0;34m.\u001b[0m\u001b[0mget\u001b[0m\u001b[0;34m(\u001b[0m\u001b[0mitem\u001b[0m\u001b[0;34m)\u001b[0m\u001b[0;34m\u001b[0m\u001b[0m\n\u001b[1;32m   1533\u001b[0m         \u001b[0;32mif\u001b[0m \u001b[0mres\u001b[0m \u001b[0;32mis\u001b[0m \u001b[0;32mNone\u001b[0m\u001b[0;34m:\u001b[0m\u001b[0;34m\u001b[0m\u001b[0m\n\u001b[0;32m-> 1534\u001b[0;31m             \u001b[0mvalues\u001b[0m \u001b[0;34m=\u001b[0m \u001b[0mself\u001b[0m\u001b[0;34m.\u001b[0m\u001b[0m_data\u001b[0m\u001b[0;34m.\u001b[0m\u001b[0mget\u001b[0m\u001b[0;34m(\u001b[0m\u001b[0mitem\u001b[0m\u001b[0;34m)\u001b[0m\u001b[0;34m\u001b[0m\u001b[0m\n\u001b[0m\u001b[1;32m   1535\u001b[0m             \u001b[0mres\u001b[0m \u001b[0;34m=\u001b[0m \u001b[0mself\u001b[0m\u001b[0;34m.\u001b[0m\u001b[0m_box_item_values\u001b[0m\u001b[0;34m(\u001b[0m\u001b[0mitem\u001b[0m\u001b[0;34m,\u001b[0m \u001b[0mvalues\u001b[0m\u001b[0;34m)\u001b[0m\u001b[0;34m\u001b[0m\u001b[0m\n\u001b[1;32m   1536\u001b[0m             \u001b[0mcache\u001b[0m\u001b[0;34m[\u001b[0m\u001b[0mitem\u001b[0m\u001b[0;34m]\u001b[0m \u001b[0;34m=\u001b[0m \u001b[0mres\u001b[0m\u001b[0;34m\u001b[0m\u001b[0m\n",
      "\u001b[0;32m/Users/justinklemperer/anaconda/lib/python3.6/site-packages/pandas/core/internals.py\u001b[0m in \u001b[0;36mget\u001b[0;34m(self, item, fastpath)\u001b[0m\n\u001b[1;32m   3588\u001b[0m \u001b[0;34m\u001b[0m\u001b[0m\n\u001b[1;32m   3589\u001b[0m             \u001b[0;32mif\u001b[0m \u001b[0;32mnot\u001b[0m \u001b[0misnull\u001b[0m\u001b[0;34m(\u001b[0m\u001b[0mitem\u001b[0m\u001b[0;34m)\u001b[0m\u001b[0;34m:\u001b[0m\u001b[0;34m\u001b[0m\u001b[0m\n\u001b[0;32m-> 3590\u001b[0;31m                 \u001b[0mloc\u001b[0m \u001b[0;34m=\u001b[0m \u001b[0mself\u001b[0m\u001b[0;34m.\u001b[0m\u001b[0mitems\u001b[0m\u001b[0;34m.\u001b[0m\u001b[0mget_loc\u001b[0m\u001b[0;34m(\u001b[0m\u001b[0mitem\u001b[0m\u001b[0;34m)\u001b[0m\u001b[0;34m\u001b[0m\u001b[0m\n\u001b[0m\u001b[1;32m   3591\u001b[0m             \u001b[0;32melse\u001b[0m\u001b[0;34m:\u001b[0m\u001b[0;34m\u001b[0m\u001b[0m\n\u001b[1;32m   3592\u001b[0m                 \u001b[0mindexer\u001b[0m \u001b[0;34m=\u001b[0m \u001b[0mnp\u001b[0m\u001b[0;34m.\u001b[0m\u001b[0marange\u001b[0m\u001b[0;34m(\u001b[0m\u001b[0mlen\u001b[0m\u001b[0;34m(\u001b[0m\u001b[0mself\u001b[0m\u001b[0;34m.\u001b[0m\u001b[0mitems\u001b[0m\u001b[0;34m)\u001b[0m\u001b[0;34m)\u001b[0m\u001b[0;34m[\u001b[0m\u001b[0misnull\u001b[0m\u001b[0;34m(\u001b[0m\u001b[0mself\u001b[0m\u001b[0;34m.\u001b[0m\u001b[0mitems\u001b[0m\u001b[0;34m)\u001b[0m\u001b[0;34m]\u001b[0m\u001b[0;34m\u001b[0m\u001b[0m\n",
      "\u001b[0;32m/Users/justinklemperer/anaconda/lib/python3.6/site-packages/pandas/core/indexes/base.py\u001b[0m in \u001b[0;36mget_loc\u001b[0;34m(self, key, method, tolerance)\u001b[0m\n\u001b[1;32m   2393\u001b[0m                 \u001b[0;32mreturn\u001b[0m \u001b[0mself\u001b[0m\u001b[0;34m.\u001b[0m\u001b[0m_engine\u001b[0m\u001b[0;34m.\u001b[0m\u001b[0mget_loc\u001b[0m\u001b[0;34m(\u001b[0m\u001b[0mkey\u001b[0m\u001b[0;34m)\u001b[0m\u001b[0;34m\u001b[0m\u001b[0m\n\u001b[1;32m   2394\u001b[0m             \u001b[0;32mexcept\u001b[0m \u001b[0mKeyError\u001b[0m\u001b[0;34m:\u001b[0m\u001b[0;34m\u001b[0m\u001b[0m\n\u001b[0;32m-> 2395\u001b[0;31m                 \u001b[0;32mreturn\u001b[0m \u001b[0mself\u001b[0m\u001b[0;34m.\u001b[0m\u001b[0m_engine\u001b[0m\u001b[0;34m.\u001b[0m\u001b[0mget_loc\u001b[0m\u001b[0;34m(\u001b[0m\u001b[0mself\u001b[0m\u001b[0;34m.\u001b[0m\u001b[0m_maybe_cast_indexer\u001b[0m\u001b[0;34m(\u001b[0m\u001b[0mkey\u001b[0m\u001b[0;34m)\u001b[0m\u001b[0;34m)\u001b[0m\u001b[0;34m\u001b[0m\u001b[0m\n\u001b[0m\u001b[1;32m   2396\u001b[0m \u001b[0;34m\u001b[0m\u001b[0m\n\u001b[1;32m   2397\u001b[0m         \u001b[0mindexer\u001b[0m \u001b[0;34m=\u001b[0m \u001b[0mself\u001b[0m\u001b[0;34m.\u001b[0m\u001b[0mget_indexer\u001b[0m\u001b[0;34m(\u001b[0m\u001b[0;34m[\u001b[0m\u001b[0mkey\u001b[0m\u001b[0;34m]\u001b[0m\u001b[0;34m,\u001b[0m \u001b[0mmethod\u001b[0m\u001b[0;34m=\u001b[0m\u001b[0mmethod\u001b[0m\u001b[0;34m,\u001b[0m \u001b[0mtolerance\u001b[0m\u001b[0;34m=\u001b[0m\u001b[0mtolerance\u001b[0m\u001b[0;34m)\u001b[0m\u001b[0;34m\u001b[0m\u001b[0m\n",
      "\u001b[0;32mpandas/_libs/index.pyx\u001b[0m in \u001b[0;36mpandas._libs.index.IndexEngine.get_loc (pandas/_libs/index.c:5239)\u001b[0;34m()\u001b[0m\n",
      "\u001b[0;32mpandas/_libs/index.pyx\u001b[0m in \u001b[0;36mpandas._libs.index.IndexEngine.get_loc (pandas/_libs/index.c:5085)\u001b[0;34m()\u001b[0m\n",
      "\u001b[0;32mpandas/_libs/hashtable_class_helper.pxi\u001b[0m in \u001b[0;36mpandas._libs.hashtable.PyObjectHashTable.get_item (pandas/_libs/hashtable.c:20405)\u001b[0;34m()\u001b[0m\n",
      "\u001b[0;32mpandas/_libs/hashtable_class_helper.pxi\u001b[0m in \u001b[0;36mpandas._libs.hashtable.PyObjectHashTable.get_item (pandas/_libs/hashtable.c:20359)\u001b[0;34m()\u001b[0m\n",
      "\u001b[0;31mKeyError\u001b[0m: 'shot_made_flag'"
     ]
    }
   ],
   "source": [
    "holdout = df[df['shot_made_flag'].isnull()]\n",
    "data = df[df['shot_made_flag'].notnull()]\n",
    "\n",
    "y=data['shot_made_flag']\n",
    "X=data.drop(['shot_made_flag', 'shot_id'], axis=1)"
   ]
  },
  {
   "cell_type": "code",
   "execution_count": 62,
   "metadata": {},
   "outputs": [
    {
     "ename": "NameError",
     "evalue": "name 'X' is not defined",
     "output_type": "error",
     "traceback": [
      "\u001b[0;31m---------------------------------------------------------------------------\u001b[0m",
      "\u001b[0;31mNameError\u001b[0m                                 Traceback (most recent call last)",
      "\u001b[0;32m<ipython-input-62-99cf65281aaf>\u001b[0m in \u001b[0;36m<module>\u001b[0;34m()\u001b[0m\n\u001b[0;32m----> 1\u001b[0;31m \u001b[0mX_train\u001b[0m\u001b[0;34m,\u001b[0m \u001b[0mX_test\u001b[0m\u001b[0;34m,\u001b[0m \u001b[0my_train\u001b[0m\u001b[0;34m,\u001b[0m \u001b[0my_test\u001b[0m\u001b[0;34m=\u001b[0m\u001b[0mtrain_test_split\u001b[0m\u001b[0;34m(\u001b[0m\u001b[0mX\u001b[0m\u001b[0;34m,\u001b[0m\u001b[0my\u001b[0m\u001b[0;34m,\u001b[0m \u001b[0mrandom_state\u001b[0m\u001b[0;34m=\u001b[0m\u001b[0;36m42\u001b[0m\u001b[0;34m,\u001b[0m \u001b[0mtest_size\u001b[0m\u001b[0;34m=\u001b[0m\u001b[0;36m0.3\u001b[0m\u001b[0;34m)\u001b[0m\u001b[0;34m\u001b[0m\u001b[0m\n\u001b[0m",
      "\u001b[0;31mNameError\u001b[0m: name 'X' is not defined"
     ]
    }
   ],
   "source": [
    "X_train, X_test, y_train, y_test=train_test_split(X,y, random_state=42, test_size=0.3)"
   ]
  },
  {
   "cell_type": "code",
   "execution_count": null,
   "metadata": {},
   "outputs": [],
   "source": [
    "steps=[('clf',LinearRegression())]\n",
    "\n",
    "pl=Pipeline(steps)\n",
    "\n",
    "pl.fit(X_train, y_train)\n",
    "\n",
    "preds=pl.predict(X_test)\n",
    "\n",
    "preds=pd.Series(preds)   \n",
    "        \n",
    "preds=preds.apply(lambda x: 1 if x>0.5 else 0)\n",
    "\n",
    "print(accuracy_score(y_test, preds))"
   ]
  },
  {
   "cell_type": "markdown",
   "metadata": {},
   "source": [
    "Based on this, we can see that our target variable is distributed quite equally and will not require any action to deal with imbalance"
   ]
  },
  {
   "cell_type": "code",
   "execution_count": 69,
   "metadata": {
    "scrolled": true
   },
   "outputs": [
    {
     "name": "stdout",
     "output_type": "stream",
     "text": [
      "0            Jump Shot\n",
      "1            Jump Shot\n",
      "2            Jump Shot\n",
      "3            Jump Shot\n",
      "4    Driving Dunk Shot\n",
      "Name: action_type, dtype: object\n",
      "0    Jump Shot\n",
      "1    Jump Shot\n",
      "2    Jump Shot\n",
      "3    Jump Shot\n",
      "4         Dunk\n",
      "Name: combined_shot_type, dtype: object\n",
      "0    2000-01\n",
      "1    2000-01\n",
      "2    2000-01\n",
      "3    2000-01\n",
      "4    2000-01\n",
      "Name: season, dtype: object\n",
      "0    2PT Field Goal\n",
      "1    2PT Field Goal\n",
      "2    2PT Field Goal\n",
      "3    2PT Field Goal\n",
      "4    2PT Field Goal\n",
      "Name: shot_type, dtype: object\n",
      "0            Right Side(R)\n",
      "1             Left Side(L)\n",
      "2     Left Side Center(LC)\n",
      "3    Right Side Center(RC)\n",
      "4                Center(C)\n",
      "Name: shot_zone_area, dtype: object\n",
      "0          Mid-Range\n",
      "1          Mid-Range\n",
      "2          Mid-Range\n",
      "3          Mid-Range\n",
      "4    Restricted Area\n",
      "Name: shot_zone_basic, dtype: object\n",
      "0          16-24 ft.\n",
      "1           8-16 ft.\n",
      "2          16-24 ft.\n",
      "3          16-24 ft.\n",
      "4    Less Than 8 ft.\n",
      "Name: shot_zone_range, dtype: object\n",
      "0    Los Angeles Lakers\n",
      "1    Los Angeles Lakers\n",
      "2    Los Angeles Lakers\n",
      "3    Los Angeles Lakers\n",
      "4    Los Angeles Lakers\n",
      "Name: team_name, dtype: object\n",
      "0    2000-10-31\n",
      "1    2000-10-31\n",
      "2    2000-10-31\n",
      "3    2000-10-31\n",
      "4    2000-10-31\n",
      "Name: game_date, dtype: object\n",
      "0    LAL @ POR\n",
      "1    LAL @ POR\n",
      "2    LAL @ POR\n",
      "3    LAL @ POR\n",
      "4    LAL @ POR\n",
      "Name: matchup, dtype: object\n",
      "0    POR\n",
      "1    POR\n",
      "2    POR\n",
      "3    POR\n",
      "4    POR\n",
      "Name: opponent, dtype: object\n"
     ]
    }
   ],
   "source": [
    "import pandas as pd\n",
    "import numpy as np\n",
    "import os\n",
    "import matplotlib.pyplot as plt\n",
    "from sklearn.model_selection import train_test_split\n",
    "from sklearn.metrics import accuracy_score\n",
    "from sklearn.pipeline import Pipeline\n",
    "from sklearn.linear_model import LinearRegression\n",
    "\n",
    "df=pd.read_csv('data.csv')\n",
    "\n",
    "for i in df.columns:\n",
    "    if df[i].dtypes=='object':\n",
    "        print(df[i].head())"
   ]
  },
  {
   "cell_type": "code",
   "execution_count": 70,
   "metadata": {
    "collapsed": true
   },
   "outputs": [],
   "source": [
    "df.drop(['lat', 'lon','team_id', 'team_name'], axis=1, inplace=True)\n",
    "df['season']=df['season'].apply(lambda x: x[0:4])"
   ]
  },
  {
   "cell_type": "code",
   "execution_count": 71,
   "metadata": {
    "collapsed": true
   },
   "outputs": [],
   "source": [
    "df['matchup']=df['matchup'].apply(lambda x: 1 if '@' in x else 0)\n",
    "df['shot_type']=df['shot_type'].apply(lambda x: 1 if '3' in x else 0)"
   ]
  },
  {
   "cell_type": "code",
   "execution_count": 72,
   "metadata": {
    "collapsed": true
   },
   "outputs": [],
   "source": [
    "df=pd.get_dummies(df)"
   ]
  },
  {
   "cell_type": "code",
   "execution_count": 73,
   "metadata": {
    "collapsed": true
   },
   "outputs": [],
   "source": [
    "holdout=df[df['shot_made_flag'].isnull()]\n",
    "data=df[df['shot_made_flag'].notnull()]\n",
    "\n",
    "y=data['shot_made_flag']\n",
    "X=data.drop(['shot_made_flag', 'shot_id'], axis=1)"
   ]
  },
  {
   "cell_type": "code",
   "execution_count": 74,
   "metadata": {
    "collapsed": true
   },
   "outputs": [],
   "source": [
    "\n",
    "X_train, X_test, y_train, y_test=train_test_split(X,y, random_state=42, test_size=0.3)"
   ]
  },
  {
   "cell_type": "code",
   "execution_count": 77,
   "metadata": {},
   "outputs": [
    {
     "name": "stdout",
     "output_type": "stream",
     "text": [
      "0.645395590143\n"
     ]
    }
   ],
   "source": [
    "\n",
    "steps=[('clf',LinearRegression())]\n",
    "\n",
    "pl=Pipeline(steps)\n",
    "\n",
    "pl.fit(X_train, y_train)\n",
    "\n",
    "preds=pl.predict(X_test)\n",
    "\n",
    "preds=pd.Series(preds)   \n",
    "        \n",
    "preds=preds.apply(lambda x: 1 if x>0.5 else 0)\n",
    "\n",
    "print(accuracy_score(y_test, preds))"
   ]
  },
  {
   "cell_type": "code",
   "execution_count": 79,
   "metadata": {},
   "outputs": [
    {
     "data": {
      "text/plain": [
       "MLPClassifier(activation='relu', alpha=0.0001, batch_size='auto', beta_1=0.9,\n",
       "       beta_2=0.999, early_stopping=False, epsilon=1e-08,\n",
       "       hidden_layer_sizes=(100,), learning_rate='constant',\n",
       "       learning_rate_init=0.001, max_iter=200, momentum=0.9,\n",
       "       nesterovs_momentum=True, power_t=0.5, random_state=None,\n",
       "       shuffle=True, solver='adam', tol=0.0001, validation_fraction=0.1,\n",
       "       verbose=False, warm_start=False)"
      ]
     },
     "execution_count": 79,
     "metadata": {},
     "output_type": "execute_result"
    }
   ],
   "source": [
    "from sklearn.neural_network import MLPClassifier\n",
    "classifier=MLPClassifier()\n",
    "classifier.fit(X_train, y_train)\n",
    "\n"
   ]
  },
  {
   "cell_type": "code",
   "execution_count": 76,
   "metadata": {
    "collapsed": true
   },
   "outputs": [],
   "source": [
    "holdout_predict=pl.predict(holdout.drop(['shot_made_flag', 'shot_id'], axis=1))\n",
    "h_pred=pd.Series(holdout_predict)\n",
    "h_pred=h_pred.apply(lambda x: 1 if x>0.5 else 0)\n",
    "h_pred.name='shot_made_flag'\n",
    "\n",
    "submission=pd.DataFrame(holdout['shot_id'])\n",
    "submission.index=range(5000)\n",
    "\n",
    "submission=pd.concat([submission, h_pred], axis=1)\n",
    "        \n",
    "submission.to_csv('submission_baseline.csv')"
   ]
  },
  {
   "cell_type": "markdown",
   "metadata": {},
   "source": [
    "# Feature Selection"
   ]
  },
  {
   "cell_type": "markdown",
   "metadata": {},
   "source": [
    "## Luke/Harold Working Section (Parts 1,2,3)\n",
    "#### (1)Kobe shot made based on distance to basket, shot selection, …(all features)(predict)\n",
    "#### (2)How likely is a shot to go in based on the distance to the basket?(predict)\n",
    "#### (3)How likely is Kobe to win a game based on his (features)(which feature you mean?)(predict)¶"
   ]
  },
  {
   "cell_type": "markdown",
   "metadata": {},
   "source": [
    "Now we begin seperating the data into two parts - one for learning and one for testing. "
   ]
  },
  {
   "cell_type": "markdown",
   "metadata": {},
   "source": [
    "## Steven Working Section (Parts 4,5,6)\n",
    "#### (4)Where are Kobes strongest and weakest shooting zones?(chart/analysis)(Steven)\n",
    "#### (5)Over his entire career was Kobe a more accurate 3-point or 2-point shooter?(chart/analysis)(Steven)\n",
    "#### (6)What year/game/playoff series was Kobe the most accurate in his shooting percentage?(chart/analysis)(Steven)"
   ]
  },
  {
   "cell_type": "markdown",
   "metadata": {},
   "source": [
    "## (4)Where are Kobes strongest and weakest shooting zones?(chart/analysis)(Steven)\n",
    "### What attributes contribute to shot choice selection?"
   ]
  },
  {
   "cell_type": "code",
   "execution_count": null,
   "metadata": {
    "collapsed": true,
    "scrolled": true
   },
   "outputs": [],
   "source": [
    "# RAW PLOTS, Gives good representation of where shots were taken. Plots create outline of court.\n",
    "# column types(shot_distance\tshot_made_flag\tshot_type\tshot_zone_area\tshot_zone_basic\tshot_zone_range)\n",
    "# Getting a sence of what Kobes data contains. This raw plot show the mass amount of shot selections we have to work with. Needs cleaning/reformating to get a clear understanding.\n",
    "\n",
    "#sns.set_style(\"white\")\n",
    "#sns.set_color_codes()\n",
    "#All shots/Action Type\n",
    "plt.figure(figsize=(12,20))\n",
    "plt.scatter(df.loc_x, df.loc_y)\n",
    "plt.show()\n",
    "\n",
    "#Adjusting to shot zone area(R)\n",
    "shot_zone_plt = df[df.shot_zone_area == \"Right Side(R)\"]\n",
    "plt.figure(figsize=(15,13))\n",
    "plt.xlim(0,300)\n",
    "plt.ylim(-75,175)\n",
    "plt.scatter(shot_zone_plt.loc_x, shot_zone_plt.loc_y)\n",
    "plt.show()\n",
    "\n",
    "#Adjusting to shot zone area(L)(I WANT TO SET THESE SO THEY ARE ALL SIDE BY SIDE)\n",
    "shot_zone_plt = df[df.shot_zone_area == \"Left Side(L)\"]\n",
    "plt.figure(figsize=(15,13))\n",
    "plt.xlim(0,-300)\n",
    "plt.ylim(-75,175)\n",
    "plt.scatter(shot_zone_plt.loc_x, shot_zone_plt.loc_y)\n",
    "plt.show()\n",
    "\n",
    "#Adjusting to shot zone area(C)(CANT FIND POINT PLOT YET)(Check other shot columns...)\n",
    "shot_zone_plt = df[df.shot_zone_area == \"Center(C)\"]\n",
    "plt.figure(figsize=(15,13))\n",
    "plt.xlim(-150,150)\n",
    "plt.ylim(0,300)\n",
    "plt.scatter(shot_zone_plt.loc_x, shot_zone_plt.loc_y)\n",
    "plt.show()"
   ]
  },
  {
   "cell_type": "markdown",
   "metadata": {},
   "source": [
    "## Ploting NBA Cort Lines(Open Sourced)\n",
    "### Gathering A Better Visual Representation Of Plots"
   ]
  },
  {
   "cell_type": "code",
   "execution_count": null,
   "metadata": {
    "collapsed": true,
    "scrolled": true
   },
   "outputs": [],
   "source": [
    "# Create a NBA basketball court visual line plot\n",
    "#Sourced From.......\"savvastjortjoglou\"\n",
    "from matplotlib.patches import Circle, Rectangle, Arc\n",
    "\n",
    "def draw_court(ax=None, color='black', lw=2, outer_lines=False):\n",
    "    if ax is None:\n",
    "        ax = plt.gca()\n",
    "        \n",
    "    # Create the basketball hoop\n",
    "    hoop = Circle((0, 0), radius=7.5, linewidth=lw, color=color, fill=False)\n",
    "    # Create backboard\n",
    "    backboard = Rectangle((-30, -7.5), 60, -1, linewidth=lw, color=color)\n",
    "    # The paint\n",
    "    outer_box = Rectangle((-80, -47.5), 160, 190, linewidth=lw, color=color,\n",
    "                          fill=False)\n",
    "    # Create the inner box of the paint, widt=12ft, height=19ft\n",
    "    inner_box = Rectangle((-60, -47.5), 120, 190, linewidth=lw, color=color,\n",
    "                          fill=False)\n",
    "    # Create free throw top arc\n",
    "    top_free_throw = Arc((0, 142.5), 120, 120, theta1=0, theta2=180,\n",
    "                         linewidth=lw, color=color, fill=False)\n",
    "    # Create free throw bottom arc\n",
    "    bottom_free_throw = Arc((0, 142.5), 120, 120, theta1=180, theta2=0,\n",
    "                            linewidth=lw, color=color, linestyle='dashed')\n",
    "    # Restricted Zone, it is an arc with 4ft radius from center of the hoop\n",
    "    restricted = Arc((0, 0), 80, 80, theta1=0, theta2=180, linewidth=lw,\n",
    "                     color=color)\n",
    "    # Three point line\n",
    "    corner_three_a = Rectangle((-220, -47.5), 0, 140, linewidth=lw,\n",
    "                               color=color)\n",
    "    corner_three_b = Rectangle((220, -47.5), 0, 140, linewidth=lw, color=color)\n",
    "    # 3pt arc - center of arc will be the hoop, arc is 23'9\" away from hoop\n",
    "    three_arc = Arc((0, 0), 475, 475, theta1=22, theta2=158, linewidth=lw,\n",
    "                    color=color)\n",
    "    # Center Court\n",
    "    center_outer_arc = Arc((0, 422.5), 120, 120, theta1=180, theta2=0,\n",
    "                           linewidth=lw, color=color)\n",
    "    center_inner_arc = Arc((0, 422.5), 40, 40, theta1=180, theta2=0,\n",
    "                           linewidth=lw, color=color)\n",
    "    # List of the court elements to be plotted onto the axes\n",
    "    court_elements = [hoop, backboard, outer_box, inner_box, top_free_throw,\n",
    "                      bottom_free_throw, restricted, corner_three_a,\n",
    "                      corner_three_b, three_arc, center_outer_arc,\n",
    "                      center_inner_arc]\n",
    "    if outer_lines:\n",
    "        # Half court line, baseline and side out bound lines\n",
    "        outer_lines = Rectangle((-250, -47.5), 500, 470, linewidth=lw,\n",
    "                                color=color, fill=False)\n",
    "        court_elements.append(outer_lines)\n",
    "    # Add the court elements onto the axes\n",
    "    for element in court_elements:\n",
    "        ax.add_patch(element)\n",
    "\n",
    "    return ax\n",
    "\n",
    "plt.figure(figsize=(12,11))\n",
    "draw_court(outer_lines=True)\n",
    "plt.xlim(-300,300)\n",
    "plt.ylim(-100,500)\n",
    "plt.show()"
   ]
  },
  {
   "cell_type": "markdown",
   "metadata": {},
   "source": [
    "### Based on this new visualization render for the plot we can verify we have data outside the proper range. Lets analyize the data, clean and continue plot."
   ]
  },
  {
   "cell_type": "code",
   "execution_count": null,
   "metadata": {
    "collapsed": true,
    "scrolled": false
   },
   "outputs": [],
   "source": [
    "#RE-Plot fig 1 To COURT MAP\n",
    "plt.figure(figsize=(12,11))\n",
    "plt.scatter(df.loc_x, df.loc_y)\n",
    "draw_court(outer_lines=True)\n",
    "# Descending values along the axis from left to right\n",
    "plt.xlim(300,-300)\n",
    "plt.ylim(-75,475)\n",
    "plt.show()\n",
    "\n",
    "#I will make new plot (with new data) SHOTS MADE VS MISSED!"
   ]
  },
  {
   "cell_type": "code",
   "execution_count": null,
   "metadata": {
    "collapsed": true,
    "scrolled": true
   },
   "outputs": [],
   "source": [
    "from matplotlib.offsetbox import  OffsetImage\n",
    "#Create Heat Map of Kobe shot selection(NEXT I WANT TO SPLIT (MAKE=1(o),MISS=0(x)))\n",
    "\n",
    "# Note we can extract a color from cmap\n",
    "#cmap=plt.cm.YlOrRd_r\n",
    "\n",
    "heat_map_shot_chart = sns.jointplot(df.loc_x, df.loc_y, stat_func=None, kind='kde', space=0, color=cmap(0.1), cmap=\"Reds\", shade_lowest=False, n_levels=300)\n",
    "heat_map_shot_chart = sns.jointplot(df.loc_x, df.loc_y, stat_func=None, kind='kde', space=0, color=cmap(0.1), cmap=\"Reds\", shade=False, n_levels=500)\n",
    "\n",
    "heat_map_shot_chart.fig.set_size_inches(12,11)\n",
    "ax = heat_map_shot_chart.ax_joint\n",
    "draw_court(ax)\n",
    "ax.set_title('Kobe Bryant\\n?2000-2001? ?Career? ?Season?', y=1.2, fontsize=20)\n",
    "ax.set_xlim(300,-300)\n",
    "ax.set_ylim(-75,475)\n",
    "ax.set_xlabel('')\n",
    "ax.set_ylabel('')\n",
    "ax.tick_params(labelbottom='off', labelleft='off')\n",
    "plt.show()"
   ]
  },
  {
   "cell_type": "code",
   "execution_count": null,
   "metadata": {
    "collapsed": true
   },
   "outputs": [],
   "source": [
    "#PLOT ON MAP (ALL SHOT ZONE AREAS)\n",
    "#RIGHT SIDE HEAT MAP\n",
    "right_shot_zone_plt = df[df.shot_zone_area == \"Right Side(R)\"]\n",
    "\n",
    "right_heat_map_shot_chart = sns.jointplot(right_shot_zone_plt.loc_x, right_shot_zone_plt.loc_y, stat_func=None, kind='kde', space=0, color=cmap(0.1), cmap=\"Reds\", shade=False, n_levels=500)\n",
    "\n",
    "right_heat_map_shot_chart.fig.set_size_inches(12,11)\n",
    "ax = right_heat_map_shot_chart.ax_joint\n",
    "draw_court(ax)\n",
    "ax.set_title('Kobe Bryant\\n SHOT ZONE AREA(Right) ?2000-2001? ?Career? ?Season?', y=1.2, fontsize=20)\n",
    "ax.set_xlim(300,-300)\n",
    "ax.set_ylim(-75,475)\n",
    "ax.set_xlabel('')\n",
    "ax.set_ylabel('')\n",
    "ax.tick_params(labelbottom='off', labelleft='off')\n",
    "plt.show()\n",
    "\n",
    "#LEFT SHOT HEAT MAP\n",
    "left_shot_zone_plt = df[df.shot_zone_area == \"Left Side(L)\"]\n",
    "\n",
    "left_heat_map_shot_chart = sns.jointplot(left_shot_zone_plt.loc_x, left_shot_zone_plt.loc_y, stat_func=None, kind='kde', space=0, color=cmap(0.1), cmap=\"Reds\", shade=False, n_levels=500)\n",
    "\n",
    "left_heat_map_shot_chart.fig.set_size_inches(12,11)\n",
    "ax = left_heat_map_shot_chart.ax_joint\n",
    "draw_court(ax)\n",
    "ax.set_title('Kobe Bryant\\n SHOT ZONE AREA(Left) ?2000-2001? ?Career? ?Season?', y=1.2, fontsize=20)\n",
    "ax.set_xlim(300,-300)\n",
    "ax.set_ylim(-75,475)\n",
    "ax.set_xlabel('')\n",
    "ax.set_ylabel('')\n",
    "ax.tick_params(labelbottom='off', labelleft='off')\n",
    "plt.show()\n",
    "\n",
    "#CENTER SHOT HEAT MAP\n",
    "center_shot_zone_plt = df[df.shot_zone_area == \"Center(C)\"]\n",
    "\n",
    "center_heat_map_shot_chart = sns.jointplot(center_shot_zone_plt.loc_x, center_shot_zone_plt.loc_y, stat_func=None, kind='kde', space=0, color=cmap(0.1), cmap=\"Reds\", shade_lowest=False, n_levels=500)\n",
    "\n",
    "center_heat_map_shot_chart.fig.set_size_inches(12,11)\n",
    "ax = center_heat_map_shot_chart.ax_joint\n",
    "draw_court(ax)\n",
    "ax.set_title('Kobe Bryant\\n SHOT ZONE AREA(Center) ?2000-2001? ?Career? ?Season?', y=1.2, fontsize=20)\n",
    "ax.set_xlim(300,-300)\n",
    "ax.set_ylim(-75,475)\n",
    "ax.set_xlabel('')\n",
    "ax.set_ylabel('')\n",
    "ax.tick_params(labelbottom='off', labelleft='off')\n",
    "plt.show()"
   ]
  },
  {
   "cell_type": "code",
   "execution_count": null,
   "metadata": {
    "collapsed": true,
    "scrolled": true
   },
   "outputs": [],
   "source": [
    "#Create plots on court to visualize Kobe's made(1) and missed(0) shooting attempts over his career.\n",
    "plt.figure(figsize=(25,10))\n",
    "# Made Shots(1)\n",
    "plt.subplot(131)\n",
    "ax = df.loc[df.shot_made_flag == 1]\n",
    "plt.scatter(ax.loc_x, ax.loc_y, color='green')\n",
    "draw_court(outer_lines=True)\n",
    "plt.title('Kobe Made Shots', fontsize=15)\n",
    "\n",
    "# Missed Shots(0)\n",
    "plt.subplot(132)\n",
    "ax = df.loc[df.shot_made_flag == 0]\n",
    "plt.scatter(ax.loc_x, ax.loc_y, color='red')\n",
    "draw_court(outer_lines=True)\n",
    "plt.title('Kobe Missed Shots', fontsize=15)\n",
    "plt.xlim(300,-300)\n",
    "plt.ylim(-75,800)\n",
    "plt.show()"
   ]
  },
  {
   "cell_type": "code",
   "execution_count": null,
   "metadata": {
    "collapsed": true,
    "scrolled": true
   },
   "outputs": [],
   "source": [
    "#import seaborn as sns; sns.set()\n",
    "#import matplotlib.pyplot as plt\n",
    "\n",
    "# Overall shot distance in a complete game based on the minutes remaining. +- confidence interval.\n",
    "plt.figure(figsize=(15,5))\n",
    "plt.title('Overall Shot Distance In Full Game Based On Minutes Remaining. +- Confidence Interval Caps.', fontsize=20)\n",
    "shot_dist_conf_int = sns.pointplot(x=\"minutes_remaining\", y=\"shot_distance\", capsize=.5, data=df)\n",
    "plt.xlabel(\"Minutes Remaining\", fontsize=15)\n",
    "plt.ylabel(\"Shot Distance\",fontsize=15)"
   ]
  },
  {
   "cell_type": "code",
   "execution_count": null,
   "metadata": {
    "collapsed": true,
    "scrolled": true
   },
   "outputs": [],
   "source": [
    "# Shot distance variation based on minutes remaining per period.\n",
    "plt.figure(figsize=(15,5))\n",
    "plt.title('Shot Distance Variation Based On Minutes Remaining Per Period.', fontsize=15)\n",
    "plt.legend(loc='bottom left')\n",
    "shot_dist_per_min = sns.pointplot(x=\"minutes_remaining\", y=\"shot_distance\", hue=\"period\", data=df)\n",
    "plt.xlabel(\"Minutes Remaining\", fontsize=15)\n",
    "plt.ylabel(\"Shot Distance\",fontsize=15)"
   ]
  },
  {
   "cell_type": "markdown",
   "metadata": {},
   "source": [
    "## (5) Over his entire career was Kobe a more accurate 3-point or 2-point shooter?(chart/analysis)(Steven)"
   ]
  },
  {
   "cell_type": "code",
   "execution_count": null,
   "metadata": {
    "collapsed": true,
    "scrolled": true
   },
   "outputs": [],
   "source": [
    "#Data has games from 2000-1999\n",
    "game_years = df['season'].unique().tolist()\n",
    "game_years"
   ]
  },
  {
   "cell_type": "code",
   "execution_count": null,
   "metadata": {
    "collapsed": true
   },
   "outputs": [],
   "source": [
    "len(df['season'].unique().tolist())"
   ]
  },
  {
   "cell_type": "code",
   "execution_count": null,
   "metadata": {
    "collapsed": true,
    "scrolled": true
   },
   "outputs": [],
   "source": [
    "plt.figure(figsize=(20,15))\n",
    "ax = df.loc[df.action_type == 'Hook Shot']\n",
    "plt.scatter(ax.loc_x, ax.loc_y, color='blue')\n",
    "draw_court(outer_lines=True)\n",
    "plt.title('Kobe Hook Shots', fontsize=15)\n",
    "plt.xlim(275,-275)\n",
    "plt.ylim(-75,300)\n",
    "plt.show()"
   ]
  },
  {
   "cell_type": "markdown",
   "metadata": {},
   "source": [
    "## Justin Working Section (Parts 7,8,9)\n",
    "#### (7)Was Kobe a more accurate shooter in the playoffs or regular season?(chart/analysis)(Justin)\n",
    "#### (8)What was Kobe’s most accurate type of shot? (Dunk, Jump-Shot, Layup, Bank-Shot)(chart/analysis)(Justin)\n",
    "#### (9)What year did Kobe make/miss the most attempted shots?(chart/analysis)(Justin)"
   ]
  },
  {
   "cell_type": "code",
   "execution_count": null,
   "metadata": {},
   "outputs": [],
   "source": []
  },
  {
   "cell_type": "markdown",
   "metadata": {},
   "source": [
    "(9) What year did Kobe make/miss the most attempted shots? "
   ]
  },
  {
   "cell_type": "code",
   "execution_count": 17,
   "metadata": {
    "scrolled": false
   },
   "outputs": [],
   "source": [
    "from PIL import Image\n",
    "image = Image.open('KOBE.png')\n",
    "image.show()"
   ]
  },
  {
   "cell_type": "markdown",
   "metadata": {},
   "source": [
    "According to the char, Kobe made 873 shots back in 2005-06, which totally makes sense,because back in 2005 season, Kobe average 35 points pergame, he even scored 81 points in one game, againsting the raptors. Unfortunately, 2005 season was also the year when kobe missed the most shots in his career, he attempted 2173 times, made 873 of those, which means he missed almost 1300 attempts in that year. Another interesting finding we can conclude from the chat is in 2008, when Kobe won his first MVP, he made the second most shots in his career with only 800 misses, which was considered the most effective year of his career."
   ]
  },
  {
   "cell_type": "code",
   "execution_count": null,
   "metadata": {},
   "outputs": [],
   "source": []
  }
 ],
 "metadata": {
  "anaconda-cloud": {},
  "kernelspec": {
   "display_name": "Python 3",
   "language": "python",
   "name": "python3"
  },
  "language_info": {
   "codemirror_mode": {
    "name": "ipython",
    "version": 3
   },
   "file_extension": ".py",
   "mimetype": "text/x-python",
   "name": "python",
   "nbconvert_exporter": "python",
   "pygments_lexer": "ipython3",
   "version": "3.6.4"
  }
 },
 "nbformat": 4,
 "nbformat_minor": 1
}
