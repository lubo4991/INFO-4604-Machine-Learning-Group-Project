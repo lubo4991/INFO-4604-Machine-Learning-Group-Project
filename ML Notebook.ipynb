{
 "cells": [
  {
   "cell_type": "markdown",
   "metadata": {},
   "source": [
    "INFO 4604: Machine Learning Course Project"
   ]
  },
  {
   "cell_type": "markdown",
   "metadata": {},
   "source": [
    "Group Members: Lucas Bouchard, Harold Chang, Steven Rothaus, Justin Klemplerer"
   ]
  },
  {
   "cell_type": "code",
   "execution_count": 9,
   "metadata": {},
   "outputs": [],
   "source": [
    "import pandas as pd\n",
    "import numpy as np\n",
    "import os\n",
    "import matplotlib.pyplot as plt\n",
    "from sklearn.model_selection import train_test_split\n",
    "from sklearn.metrics import accuracy_score\n",
    "from sklearn.pipeline import Pipeline\n",
    "from sklearn.linear_model import LinearRegression\n",
    "from sklearn.linear_model import LogisticRegression\n",
    "from sklearn.tree import DecisionTreeClassifier\n",
    "from sklearn.neural_network import MLPClassifier\n",
    "from sklearn.naive_bayes import GaussianNB\n",
    "from sklearn.metrics import accuracy_score, precision_score\n",
    "from sklearn.linear_model import SGDClassifier\n",
    "from sklearn.ensemble import RandomForestClassifier\n",
    "from sklearn.model_selection import GridSearchCV, cross_val_predict\n",
    "from sklearn.neural_network import MLPClassifier\n",
    "import warnings\n",
    "warnings.filterwarnings('ignore')"
   ]
  },
  {
   "cell_type": "code",
   "execution_count": null,
   "metadata": {},
   "outputs": [],
   "source": [
    "df=pd.read_csv('data.csv')"
   ]
  },
  {
   "cell_type": "markdown",
   "metadata": {},
   "source": [
    "#WHAT WE NEED TO DO"
   ]
  },
  {
   "cell_type": "markdown",
   "metadata": {},
   "source": [
    "A template for a supervised classification project involves the following experiments.\n",
    "Expected experiments:\n",
    "\n",
    "•At least 3 different classification algorithms CHECK\n",
    "\n",
    "•Tune at least one hyperparameterto adjust bias/variance(on validation data, or with cross-validation) for each classifier \n",
    "\n",
    "•Experiment with feature selection and/or dimensionality reduction\n",
    "\n",
    "•Perform error analysis (do at least one of the following for an individual project, at least two for a two-person project, and all three for a three-person project)\n",
    "   \n",
    "    oAnalyze the confusion matrix\n",
    "    oExamine and describe theindividual instances the classifier  misclassifies\n",
    "    oTry to interpret what the classifier is doing (e.g., look at the weights to understand whichfeatures are predictive)"
   ]
  },
  {
   "cell_type": "markdown",
   "metadata": {},
   "source": [
    "# Start of Clean and EDA"
   ]
  },
  {
   "cell_type": "markdown",
   "metadata": {},
   "source": [
    "#Encoded all object types and change dates to date time, action_type, combined_shot_type, !season, shot_type, shot_zone_area, shot_zone_basic, shot_zone_range, team_name, game_date, matchup, opponent. Seems like we can do some tricks with opponent, matchup, and team_name columns to clean data more effectively.\n"
   ]
  },
  {
   "cell_type": "code",
   "execution_count": null,
   "metadata": {},
   "outputs": [],
   "source": [
    "#for i in df.columns:\n",
    "    #if df[i].dtypes=='object':\n",
    "        #print(df[i].head())"
   ]
  },
  {
   "cell_type": "code",
   "execution_count": 10,
   "metadata": {},
   "outputs": [],
   "source": [
    "df.drop(['lat', 'lon','team_id', 'team_name'], axis=1, inplace=True)\n",
    "df['season']=df['season'].apply(lambda x: x[0:4])"
   ]
  },
  {
   "cell_type": "code",
   "execution_count": 11,
   "metadata": {},
   "outputs": [],
   "source": [
    "df['matchup']=df['matchup'].apply(lambda x: 1 if '@' in x else 0)\n",
    "df['shot_type']=df['shot_type'].apply(lambda x: 1 if '3' in x else 0)"
   ]
  },
  {
   "cell_type": "code",
   "execution_count": 12,
   "metadata": {},
   "outputs": [],
   "source": [
    "df=pd.get_dummies(df)"
   ]
  },
  {
   "cell_type": "code",
   "execution_count": 13,
   "metadata": {},
   "outputs": [],
   "source": [
    "holdout=df[df['shot_made_flag'].isnull()]\n",
    "data=df[df['shot_made_flag'].notnull()]\n",
    "\n",
    "y=data['shot_made_flag']\n",
    "X=data.drop(['shot_made_flag', 'shot_id'], axis=1)"
   ]
  },
  {
   "cell_type": "code",
   "execution_count": 14,
   "metadata": {},
   "outputs": [],
   "source": [
    "X_train, X_test, y_train, y_test=train_test_split(X,y, random_state=42, test_size=0.3)"
   ]
  },
  {
   "cell_type": "code",
   "execution_count": 24,
   "metadata": {},
   "outputs": [
    {
     "name": "stdout",
     "output_type": "stream",
     "text": [
      "0.6453955901426719\n"
     ]
    }
   ],
   "source": [
    "#Linear Regression\n",
    "classifier=[('clf',LinearRegression())]\n",
    "pl=Pipeline(classifier)\n",
    "pl.fit(X_train, y_train)\n",
    "preds=pl.predict(X_test)\n",
    "preds=pd.Series(preds)   \n",
    "preds=preds.apply(lambda x: 1 if x>0.5 else 0)\n",
    "print(accuracy_score(y_test, preds))\n",
    "#print(\"Linear CLASSIFIER--\"\" Training accuracy: %0.6f\" % accuracy_score(y_train, classifier.predict(X_train)))\n",
    "#print(\"Linear CLASSIFIER--\"\" Test accuracy: %0.6f\" % accuracy_score(y_test, classifier.predict(X_test)))"
   ]
  },
  {
   "cell_type": "code",
   "execution_count": 26,
   "metadata": {},
   "outputs": [
    {
     "name": "stdout",
     "output_type": "stream",
     "text": [
      "LOGISTIC REGRESSION-- Training accuracy: 0.446878\n",
      "LOGISTIC REGRESSION-- Testing accuracy: 0.444488\n",
      "\n",
      "DECISION TREE-- Training accuracy: 0.780063\n",
      "DECISION TREE-- Test accuracy: 0.612970\n",
      "\n",
      "RANDOM FOREST-- Training accuracy: 0.663368\n",
      "RANDOM FOREST-- Test accuracy: 0.648898\n",
      "\n",
      "MLP CLASSIFIER-- Training accuracy: 0.553122\n",
      "MLP CLASSIFIER-- Test accuracy: 0.555512\n",
      "\n",
      "GAUSSIAN NB-- Training accuracy: 0.553122\n",
      "GAUSSIAN NB-- Test accuracy: 0.555512\n",
      "\n"
     ]
    }
   ],
   "source": [
    "#Logistic Regression\n",
    "classifier = SGDClassifier(loss='log', max_iter=1000, tol=1.0e-12, random_state=123, average=False)\n",
    "#average =False, alpha= 10.0)\n",
    "#Not sure if we need to implement alpha or if we need to optimize\n",
    "classifier.fit(X_train, y_train)\n",
    "#print(\"LOGISTIC REGRESSION--\"\" Number of SGD iterations: %d\" % classifier.n_iter_ )\n",
    "print(\"LOGISTIC REGRESSION--\"\" Training accuracy: %0.6f\" % accuracy_score(y_train, classifier.predict(X_train)))\n",
    "print(\"LOGISTIC REGRESSION--\"\" Testing accuracy: %0.6f\" % accuracy_score(y_test, classifier.predict(X_test)))\n",
    "print(\"\")\n",
    "\n",
    "############################\n",
    "\n",
    "#Decision Tree\n",
    "classifier = DecisionTreeClassifier(max_depth=100, min_samples_leaf=10, random_state=123)\n",
    "classifier.fit(X_train, y_train)\n",
    "print(\"DECISION TREE--\"\" Training accuracy: %0.6f\" % accuracy_score(y_train, classifier.predict(X_train)))\n",
    "print(\"DECISION TREE--\"\" Test accuracy: %0.6f\" % accuracy_score(y_test, classifier.predict(X_test)))\n",
    "print(\"\")\n",
    "\n",
    "############################\n",
    "\n",
    "#Random Forest Classifier\n",
    "classifier = RandomForestClassifier(n_estimators=300, max_depth=100, min_samples_leaf=10, random_state=123)\n",
    "classifier.fit(X_train, y_train)\n",
    "print(\"RANDOM FOREST--\"\" Training accuracy: %0.6f\" % accuracy_score(y_train, classifier.predict(X_train)))\n",
    "print(\"RANDOM FOREST--\"\" Test accuracy: %0.6f\" % accuracy_score(y_test, classifier.predict(X_test)))\n",
    "print(\"\")\n",
    "\n",
    "############################\n",
    "\n",
    "#MLP Classifier\n",
    "classifier=MLPClassifier()\n",
    "classifier.fit(X_train, y_train)\n",
    "print(\"MLP CLASSIFIER--\"\" Training accuracy: %0.6f\" % accuracy_score(y_train, classifier.predict(X_train)))\n",
    "print(\"MLP CLASSIFIER--\"\" Test accuracy: %0.6f\" % accuracy_score(y_test, classifier.predict(X_test)))\n",
    "print(\"\")\n",
    "\n",
    "############################\n",
    "\n",
    "#GaussianNB\n",
    "classifier = GaussianNB(priors=None, var_smoothing=1e-09)\n",
    "classifier.fit(X_train, y_train)\n",
    "print(\"GAUSSIAN NB--\"\" Training accuracy: %0.6f\" % accuracy_score(y_train, classifier.predict(X_train)))\n",
    "print(\"GAUSSIAN NB--\"\" Test accuracy: %0.6f\" % accuracy_score(y_test, classifier.predict(X_test)))\n",
    "print(\"\")"
   ]
  },
  {
   "cell_type": "code",
   "execution_count": null,
   "metadata": {},
   "outputs": [],
   "source": []
  }
 ],
 "metadata": {
  "kernelspec": {
   "display_name": "Python 3",
   "language": "python",
   "name": "python3"
  },
  "language_info": {
   "codemirror_mode": {
    "name": "ipython",
    "version": 3
   },
   "file_extension": ".py",
   "mimetype": "text/x-python",
   "name": "python",
   "nbconvert_exporter": "python",
   "pygments_lexer": "ipython3",
   "version": "3.6.6"
  }
 },
 "nbformat": 4,
 "nbformat_minor": 2
}
